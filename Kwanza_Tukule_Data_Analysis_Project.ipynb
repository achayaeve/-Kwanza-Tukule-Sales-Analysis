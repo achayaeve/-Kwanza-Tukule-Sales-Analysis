{
  "nbformat": 4,
  "nbformat_minor": 0,
  "metadata": {
    "colab": {
      "provenance": []
    },
    "kernelspec": {
      "name": "python3",
      "display_name": "Python 3"
    },
    "language_info": {
      "name": "python"
    }
  },
  "cells": [
    {
      "cell_type": "markdown",
      "source": [
        "**SECTION 1 : DATA CLEANING & PREPARATION**"
      ],
      "metadata": {
        "id": "8-YPws8edhET"
      }
    },
    {
      "cell_type": "code",
      "execution_count": 79,
      "metadata": {
        "id": "fuDCc13kJBve"
      },
      "outputs": [],
      "source": [
        "#Importing relevant libraries\n",
        "import pandas as pd\n",
        "import numpy as np\n",
        "import matplotlib.pyplot as plt\n",
        "import seaborn as sns"
      ]
    },
    {
      "cell_type": "code",
      "source": [
        "#Reading my data\n",
        "\n",
        "df = pd.read_csv('/Case Study Data - Kwanza Tukule.csv')\n",
        "df.head()"
      ],
      "metadata": {
        "colab": {
          "base_uri": "https://localhost:8080/",
          "height": 310
        },
        "id": "BMHMJWm_aO3v",
        "outputId": "268b154a-eb71-4600-a478-d20e5eba2489"
      },
      "execution_count": 80,
      "outputs": [
        {
          "output_type": "execute_result",
          "data": {
            "text/plain": [
              "                       DATE ANONYMIZED CATEGORY ANONYMIZED PRODUCT  \\\n",
              "0  August 18, 2024, 9:32 PM        Category-106       Product-21f4   \n",
              "1  August 18, 2024, 9:32 PM        Category-120       Product-4156   \n",
              "2  August 18, 2024, 9:32 PM        Category-121       Product-49bd   \n",
              "3  August 18, 2024, 9:32 PM         Category-76       Product-61dd   \n",
              "4  August 18, 2024, 9:32 PM        Category-119       Product-66e0   \n",
              "\n",
              "  ANONYMIZED BUSINESS ANONYMIZED LOCATION  QUANTITY UNIT PRICE  \n",
              "0       Business-de42       Location-1ba8         1        850  \n",
              "1       Business-de42       Location-1ba8         2      1,910  \n",
              "2       Business-de42       Location-1ba8         1      3,670  \n",
              "3       Business-de42       Location-1ba8         1      2,605  \n",
              "4       Business-de42       Location-1ba8         5      1,480  "
            ],
            "text/html": [
              "\n",
              "  <div id=\"df-dee58935-815b-4b27-954e-2f15740d1d11\" class=\"colab-df-container\">\n",
              "    <div>\n",
              "<style scoped>\n",
              "    .dataframe tbody tr th:only-of-type {\n",
              "        vertical-align: middle;\n",
              "    }\n",
              "\n",
              "    .dataframe tbody tr th {\n",
              "        vertical-align: top;\n",
              "    }\n",
              "\n",
              "    .dataframe thead th {\n",
              "        text-align: right;\n",
              "    }\n",
              "</style>\n",
              "<table border=\"1\" class=\"dataframe\">\n",
              "  <thead>\n",
              "    <tr style=\"text-align: right;\">\n",
              "      <th></th>\n",
              "      <th>DATE</th>\n",
              "      <th>ANONYMIZED CATEGORY</th>\n",
              "      <th>ANONYMIZED PRODUCT</th>\n",
              "      <th>ANONYMIZED BUSINESS</th>\n",
              "      <th>ANONYMIZED LOCATION</th>\n",
              "      <th>QUANTITY</th>\n",
              "      <th>UNIT PRICE</th>\n",
              "    </tr>\n",
              "  </thead>\n",
              "  <tbody>\n",
              "    <tr>\n",
              "      <th>0</th>\n",
              "      <td>August 18, 2024, 9:32 PM</td>\n",
              "      <td>Category-106</td>\n",
              "      <td>Product-21f4</td>\n",
              "      <td>Business-de42</td>\n",
              "      <td>Location-1ba8</td>\n",
              "      <td>1</td>\n",
              "      <td>850</td>\n",
              "    </tr>\n",
              "    <tr>\n",
              "      <th>1</th>\n",
              "      <td>August 18, 2024, 9:32 PM</td>\n",
              "      <td>Category-120</td>\n",
              "      <td>Product-4156</td>\n",
              "      <td>Business-de42</td>\n",
              "      <td>Location-1ba8</td>\n",
              "      <td>2</td>\n",
              "      <td>1,910</td>\n",
              "    </tr>\n",
              "    <tr>\n",
              "      <th>2</th>\n",
              "      <td>August 18, 2024, 9:32 PM</td>\n",
              "      <td>Category-121</td>\n",
              "      <td>Product-49bd</td>\n",
              "      <td>Business-de42</td>\n",
              "      <td>Location-1ba8</td>\n",
              "      <td>1</td>\n",
              "      <td>3,670</td>\n",
              "    </tr>\n",
              "    <tr>\n",
              "      <th>3</th>\n",
              "      <td>August 18, 2024, 9:32 PM</td>\n",
              "      <td>Category-76</td>\n",
              "      <td>Product-61dd</td>\n",
              "      <td>Business-de42</td>\n",
              "      <td>Location-1ba8</td>\n",
              "      <td>1</td>\n",
              "      <td>2,605</td>\n",
              "    </tr>\n",
              "    <tr>\n",
              "      <th>4</th>\n",
              "      <td>August 18, 2024, 9:32 PM</td>\n",
              "      <td>Category-119</td>\n",
              "      <td>Product-66e0</td>\n",
              "      <td>Business-de42</td>\n",
              "      <td>Location-1ba8</td>\n",
              "      <td>5</td>\n",
              "      <td>1,480</td>\n",
              "    </tr>\n",
              "  </tbody>\n",
              "</table>\n",
              "</div>\n",
              "    <div class=\"colab-df-buttons\">\n",
              "\n",
              "  <div class=\"colab-df-container\">\n",
              "    <button class=\"colab-df-convert\" onclick=\"convertToInteractive('df-dee58935-815b-4b27-954e-2f15740d1d11')\"\n",
              "            title=\"Convert this dataframe to an interactive table.\"\n",
              "            style=\"display:none;\">\n",
              "\n",
              "  <svg xmlns=\"http://www.w3.org/2000/svg\" height=\"24px\" viewBox=\"0 -960 960 960\">\n",
              "    <path d=\"M120-120v-720h720v720H120Zm60-500h600v-160H180v160Zm220 220h160v-160H400v160Zm0 220h160v-160H400v160ZM180-400h160v-160H180v160Zm440 0h160v-160H620v160ZM180-180h160v-160H180v160Zm440 0h160v-160H620v160Z\"/>\n",
              "  </svg>\n",
              "    </button>\n",
              "\n",
              "  <style>\n",
              "    .colab-df-container {\n",
              "      display:flex;\n",
              "      gap: 12px;\n",
              "    }\n",
              "\n",
              "    .colab-df-convert {\n",
              "      background-color: #E8F0FE;\n",
              "      border: none;\n",
              "      border-radius: 50%;\n",
              "      cursor: pointer;\n",
              "      display: none;\n",
              "      fill: #1967D2;\n",
              "      height: 32px;\n",
              "      padding: 0 0 0 0;\n",
              "      width: 32px;\n",
              "    }\n",
              "\n",
              "    .colab-df-convert:hover {\n",
              "      background-color: #E2EBFA;\n",
              "      box-shadow: 0px 1px 2px rgba(60, 64, 67, 0.3), 0px 1px 3px 1px rgba(60, 64, 67, 0.15);\n",
              "      fill: #174EA6;\n",
              "    }\n",
              "\n",
              "    .colab-df-buttons div {\n",
              "      margin-bottom: 4px;\n",
              "    }\n",
              "\n",
              "    [theme=dark] .colab-df-convert {\n",
              "      background-color: #3B4455;\n",
              "      fill: #D2E3FC;\n",
              "    }\n",
              "\n",
              "    [theme=dark] .colab-df-convert:hover {\n",
              "      background-color: #434B5C;\n",
              "      box-shadow: 0px 1px 3px 1px rgba(0, 0, 0, 0.15);\n",
              "      filter: drop-shadow(0px 1px 2px rgba(0, 0, 0, 0.3));\n",
              "      fill: #FFFFFF;\n",
              "    }\n",
              "  </style>\n",
              "\n",
              "    <script>\n",
              "      const buttonEl =\n",
              "        document.querySelector('#df-dee58935-815b-4b27-954e-2f15740d1d11 button.colab-df-convert');\n",
              "      buttonEl.style.display =\n",
              "        google.colab.kernel.accessAllowed ? 'block' : 'none';\n",
              "\n",
              "      async function convertToInteractive(key) {\n",
              "        const element = document.querySelector('#df-dee58935-815b-4b27-954e-2f15740d1d11');\n",
              "        const dataTable =\n",
              "          await google.colab.kernel.invokeFunction('convertToInteractive',\n",
              "                                                    [key], {});\n",
              "        if (!dataTable) return;\n",
              "\n",
              "        const docLinkHtml = 'Like what you see? Visit the ' +\n",
              "          '<a target=\"_blank\" href=https://colab.research.google.com/notebooks/data_table.ipynb>data table notebook</a>'\n",
              "          + ' to learn more about interactive tables.';\n",
              "        element.innerHTML = '';\n",
              "        dataTable['output_type'] = 'display_data';\n",
              "        await google.colab.output.renderOutput(dataTable, element);\n",
              "        const docLink = document.createElement('div');\n",
              "        docLink.innerHTML = docLinkHtml;\n",
              "        element.appendChild(docLink);\n",
              "      }\n",
              "    </script>\n",
              "  </div>\n",
              "\n",
              "\n",
              "<div id=\"df-c768ebe4-c97a-402b-afec-1a01d14e7379\">\n",
              "  <button class=\"colab-df-quickchart\" onclick=\"quickchart('df-c768ebe4-c97a-402b-afec-1a01d14e7379')\"\n",
              "            title=\"Suggest charts\"\n",
              "            style=\"display:none;\">\n",
              "\n",
              "<svg xmlns=\"http://www.w3.org/2000/svg\" height=\"24px\"viewBox=\"0 0 24 24\"\n",
              "     width=\"24px\">\n",
              "    <g>\n",
              "        <path d=\"M19 3H5c-1.1 0-2 .9-2 2v14c0 1.1.9 2 2 2h14c1.1 0 2-.9 2-2V5c0-1.1-.9-2-2-2zM9 17H7v-7h2v7zm4 0h-2V7h2v10zm4 0h-2v-4h2v4z\"/>\n",
              "    </g>\n",
              "</svg>\n",
              "  </button>\n",
              "\n",
              "<style>\n",
              "  .colab-df-quickchart {\n",
              "      --bg-color: #E8F0FE;\n",
              "      --fill-color: #1967D2;\n",
              "      --hover-bg-color: #E2EBFA;\n",
              "      --hover-fill-color: #174EA6;\n",
              "      --disabled-fill-color: #AAA;\n",
              "      --disabled-bg-color: #DDD;\n",
              "  }\n",
              "\n",
              "  [theme=dark] .colab-df-quickchart {\n",
              "      --bg-color: #3B4455;\n",
              "      --fill-color: #D2E3FC;\n",
              "      --hover-bg-color: #434B5C;\n",
              "      --hover-fill-color: #FFFFFF;\n",
              "      --disabled-bg-color: #3B4455;\n",
              "      --disabled-fill-color: #666;\n",
              "  }\n",
              "\n",
              "  .colab-df-quickchart {\n",
              "    background-color: var(--bg-color);\n",
              "    border: none;\n",
              "    border-radius: 50%;\n",
              "    cursor: pointer;\n",
              "    display: none;\n",
              "    fill: var(--fill-color);\n",
              "    height: 32px;\n",
              "    padding: 0;\n",
              "    width: 32px;\n",
              "  }\n",
              "\n",
              "  .colab-df-quickchart:hover {\n",
              "    background-color: var(--hover-bg-color);\n",
              "    box-shadow: 0 1px 2px rgba(60, 64, 67, 0.3), 0 1px 3px 1px rgba(60, 64, 67, 0.15);\n",
              "    fill: var(--button-hover-fill-color);\n",
              "  }\n",
              "\n",
              "  .colab-df-quickchart-complete:disabled,\n",
              "  .colab-df-quickchart-complete:disabled:hover {\n",
              "    background-color: var(--disabled-bg-color);\n",
              "    fill: var(--disabled-fill-color);\n",
              "    box-shadow: none;\n",
              "  }\n",
              "\n",
              "  .colab-df-spinner {\n",
              "    border: 2px solid var(--fill-color);\n",
              "    border-color: transparent;\n",
              "    border-bottom-color: var(--fill-color);\n",
              "    animation:\n",
              "      spin 1s steps(1) infinite;\n",
              "  }\n",
              "\n",
              "  @keyframes spin {\n",
              "    0% {\n",
              "      border-color: transparent;\n",
              "      border-bottom-color: var(--fill-color);\n",
              "      border-left-color: var(--fill-color);\n",
              "    }\n",
              "    20% {\n",
              "      border-color: transparent;\n",
              "      border-left-color: var(--fill-color);\n",
              "      border-top-color: var(--fill-color);\n",
              "    }\n",
              "    30% {\n",
              "      border-color: transparent;\n",
              "      border-left-color: var(--fill-color);\n",
              "      border-top-color: var(--fill-color);\n",
              "      border-right-color: var(--fill-color);\n",
              "    }\n",
              "    40% {\n",
              "      border-color: transparent;\n",
              "      border-right-color: var(--fill-color);\n",
              "      border-top-color: var(--fill-color);\n",
              "    }\n",
              "    60% {\n",
              "      border-color: transparent;\n",
              "      border-right-color: var(--fill-color);\n",
              "    }\n",
              "    80% {\n",
              "      border-color: transparent;\n",
              "      border-right-color: var(--fill-color);\n",
              "      border-bottom-color: var(--fill-color);\n",
              "    }\n",
              "    90% {\n",
              "      border-color: transparent;\n",
              "      border-bottom-color: var(--fill-color);\n",
              "    }\n",
              "  }\n",
              "</style>\n",
              "\n",
              "  <script>\n",
              "    async function quickchart(key) {\n",
              "      const quickchartButtonEl =\n",
              "        document.querySelector('#' + key + ' button');\n",
              "      quickchartButtonEl.disabled = true;  // To prevent multiple clicks.\n",
              "      quickchartButtonEl.classList.add('colab-df-spinner');\n",
              "      try {\n",
              "        const charts = await google.colab.kernel.invokeFunction(\n",
              "            'suggestCharts', [key], {});\n",
              "      } catch (error) {\n",
              "        console.error('Error during call to suggestCharts:', error);\n",
              "      }\n",
              "      quickchartButtonEl.classList.remove('colab-df-spinner');\n",
              "      quickchartButtonEl.classList.add('colab-df-quickchart-complete');\n",
              "    }\n",
              "    (() => {\n",
              "      let quickchartButtonEl =\n",
              "        document.querySelector('#df-c768ebe4-c97a-402b-afec-1a01d14e7379 button');\n",
              "      quickchartButtonEl.style.display =\n",
              "        google.colab.kernel.accessAllowed ? 'block' : 'none';\n",
              "    })();\n",
              "  </script>\n",
              "</div>\n",
              "\n",
              "    </div>\n",
              "  </div>\n"
            ],
            "application/vnd.google.colaboratory.intrinsic+json": {
              "type": "dataframe",
              "variable_name": "df"
            }
          },
          "metadata": {},
          "execution_count": 80
        }
      ]
    },
    {
      "cell_type": "code",
      "source": [
        "#Finding information about my dataset\n",
        "df.info()"
      ],
      "metadata": {
        "id": "PzAnK-Afejq0",
        "colab": {
          "base_uri": "https://localhost:8080/"
        },
        "outputId": "ae98bcbf-78aa-4507-c189-6f3034e19d98"
      },
      "execution_count": 81,
      "outputs": [
        {
          "output_type": "stream",
          "name": "stdout",
          "text": [
            "<class 'pandas.core.frame.DataFrame'>\n",
            "RangeIndex: 333405 entries, 0 to 333404\n",
            "Data columns (total 7 columns):\n",
            " #   Column               Non-Null Count   Dtype \n",
            "---  ------               --------------   ----- \n",
            " 0   DATE                 333405 non-null  object\n",
            " 1   ANONYMIZED CATEGORY  333405 non-null  object\n",
            " 2   ANONYMIZED PRODUCT   333405 non-null  object\n",
            " 3   ANONYMIZED BUSINESS  333405 non-null  object\n",
            " 4   ANONYMIZED LOCATION  333405 non-null  object\n",
            " 5   QUANTITY             333405 non-null  int64 \n",
            " 6   UNIT PRICE           333397 non-null  object\n",
            "dtypes: int64(1), object(6)\n",
            "memory usage: 17.8+ MB\n"
          ]
        }
      ]
    },
    {
      "cell_type": "code",
      "source": [
        "#Inspecting the data for Missing values\n",
        "df.isnull().sum()"
      ],
      "metadata": {
        "id": "DEwtIu94e1XD",
        "colab": {
          "base_uri": "https://localhost:8080/",
          "height": 303
        },
        "outputId": "3b7188e6-d18f-4e57-971a-988bc52dd058"
      },
      "execution_count": 82,
      "outputs": [
        {
          "output_type": "execute_result",
          "data": {
            "text/plain": [
              "DATE                   0\n",
              "ANONYMIZED CATEGORY    0\n",
              "ANONYMIZED PRODUCT     0\n",
              "ANONYMIZED BUSINESS    0\n",
              "ANONYMIZED LOCATION    0\n",
              "QUANTITY               0\n",
              "UNIT PRICE             8\n",
              "dtype: int64"
            ],
            "text/html": [
              "<div>\n",
              "<style scoped>\n",
              "    .dataframe tbody tr th:only-of-type {\n",
              "        vertical-align: middle;\n",
              "    }\n",
              "\n",
              "    .dataframe tbody tr th {\n",
              "        vertical-align: top;\n",
              "    }\n",
              "\n",
              "    .dataframe thead th {\n",
              "        text-align: right;\n",
              "    }\n",
              "</style>\n",
              "<table border=\"1\" class=\"dataframe\">\n",
              "  <thead>\n",
              "    <tr style=\"text-align: right;\">\n",
              "      <th></th>\n",
              "      <th>0</th>\n",
              "    </tr>\n",
              "  </thead>\n",
              "  <tbody>\n",
              "    <tr>\n",
              "      <th>DATE</th>\n",
              "      <td>0</td>\n",
              "    </tr>\n",
              "    <tr>\n",
              "      <th>ANONYMIZED CATEGORY</th>\n",
              "      <td>0</td>\n",
              "    </tr>\n",
              "    <tr>\n",
              "      <th>ANONYMIZED PRODUCT</th>\n",
              "      <td>0</td>\n",
              "    </tr>\n",
              "    <tr>\n",
              "      <th>ANONYMIZED BUSINESS</th>\n",
              "      <td>0</td>\n",
              "    </tr>\n",
              "    <tr>\n",
              "      <th>ANONYMIZED LOCATION</th>\n",
              "      <td>0</td>\n",
              "    </tr>\n",
              "    <tr>\n",
              "      <th>QUANTITY</th>\n",
              "      <td>0</td>\n",
              "    </tr>\n",
              "    <tr>\n",
              "      <th>UNIT PRICE</th>\n",
              "      <td>8</td>\n",
              "    </tr>\n",
              "  </tbody>\n",
              "</table>\n",
              "</div><br><label><b>dtype:</b> int64</label>"
            ]
          },
          "metadata": {},
          "execution_count": 82
        }
      ]
    },
    {
      "cell_type": "markdown",
      "source": [
        "The dataset had 8 null values in the Unit Price column. The below code, tries to match any entry in the data,whose Anonymized category, Anonymized Product and Anonymized business match any row in the null rows, populating the respective unit price."
      ],
      "metadata": {
        "id": "_58IKOwupIHp"
      }
    },
    {
      "cell_type": "code",
      "source": [
        "#populating the null values in the Unit Price Column\n",
        "# Creating a reference DataFrame for rows with UNIT PRICE values\n",
        "reference_df = df.dropna(subset=['UNIT PRICE'])\n",
        "# Function to populate UNIT PRICE based on matching rows\n",
        "def populate_unit_price(row):\n",
        "    if pd.isna(row['UNIT PRICE']):\n",
        "        # Match based on ANONYMIZED CATEGORY, PRODUCT, and BUSINESS\n",
        "        match = reference_df[\n",
        "            (reference_df['ANONYMIZED CATEGORY'] == row['ANONYMIZED CATEGORY']) &\n",
        "            (reference_df['ANONYMIZED PRODUCT'] == row['ANONYMIZED PRODUCT']) &\n",
        "            (reference_df['ANONYMIZED BUSINESS'] == row['ANONYMIZED BUSINESS'])\n",
        "        ]\n",
        "        # If a match is found, return the UNIT PRICE from the reference\n",
        "        if not match.empty:\n",
        "            return match['UNIT PRICE'].values[0]\n",
        "    return row['UNIT PRICE']\n",
        "\n",
        "# Apply the function to populate missing UNIT PRICE values\n",
        "df['UNIT PRICE'] = df.apply(populate_unit_price, axis=1)\n",
        "\n",
        "# Display the updated DataFrame\n",
        "print(df)"
      ],
      "metadata": {
        "id": "0F8cYl7BneWn",
        "colab": {
          "base_uri": "https://localhost:8080/"
        },
        "outputId": "6032594d-fa6c-4dad-eba6-3b5b746d222a"
      },
      "execution_count": 83,
      "outputs": [
        {
          "output_type": "stream",
          "name": "stdout",
          "text": [
            "                             DATE ANONYMIZED CATEGORY ANONYMIZED PRODUCT  \\\n",
            "0        August 18, 2024, 9:32 PM        Category-106       Product-21f4   \n",
            "1        August 18, 2024, 9:32 PM        Category-120       Product-4156   \n",
            "2        August 18, 2024, 9:32 PM        Category-121       Product-49bd   \n",
            "3        August 18, 2024, 9:32 PM         Category-76       Product-61dd   \n",
            "4        August 18, 2024, 9:32 PM        Category-119       Product-66e0   \n",
            "...                           ...                 ...                ...   \n",
            "333400   January 9, 2024, 8:49 PM        Category-119       Product-e98d   \n",
            "333401   August 20, 2024, 8:24 PM        Category-106       Product-21f4   \n",
            "333402   August 20, 2024, 8:24 PM         Category-76       Product-6e9c   \n",
            "333403  October 10, 2024, 6:19 PM         Category-91       Product-523e   \n",
            "333404  October 10, 2024, 6:19 PM         Category-75       Product-b31e   \n",
            "\n",
            "       ANONYMIZED BUSINESS ANONYMIZED LOCATION  QUANTITY UNIT PRICE  \n",
            "0            Business-de42       Location-1ba8         1        850  \n",
            "1            Business-de42       Location-1ba8         2      1,910  \n",
            "2            Business-de42       Location-1ba8         1      3,670  \n",
            "3            Business-de42       Location-1ba8         1      2,605  \n",
            "4            Business-de42       Location-1ba8         5      1,480  \n",
            "...                    ...                 ...       ...        ...  \n",
            "333400       Business-f9ff       Location-1979         1      1,770  \n",
            "333401       Business-72bc       Location-689f         1        850  \n",
            "333402       Business-72bc       Location-689f         1      2,575  \n",
            "333403       Business-2693       Location-b27b         1      1,520  \n",
            "333404       Business-2693       Location-b27b         1      4,420  \n",
            "\n",
            "[333405 rows x 7 columns]\n"
          ]
        }
      ]
    },
    {
      "cell_type": "code",
      "source": [
        "df.isnull().sum()"
      ],
      "metadata": {
        "id": "sNbRilHEoznN",
        "colab": {
          "base_uri": "https://localhost:8080/",
          "height": 303
        },
        "outputId": "0ebc2cb5-72e3-4e7e-9540-a04837a80246"
      },
      "execution_count": 84,
      "outputs": [
        {
          "output_type": "execute_result",
          "data": {
            "text/plain": [
              "DATE                   0\n",
              "ANONYMIZED CATEGORY    0\n",
              "ANONYMIZED PRODUCT     0\n",
              "ANONYMIZED BUSINESS    0\n",
              "ANONYMIZED LOCATION    0\n",
              "QUANTITY               0\n",
              "UNIT PRICE             5\n",
              "dtype: int64"
            ],
            "text/html": [
              "<div>\n",
              "<style scoped>\n",
              "    .dataframe tbody tr th:only-of-type {\n",
              "        vertical-align: middle;\n",
              "    }\n",
              "\n",
              "    .dataframe tbody tr th {\n",
              "        vertical-align: top;\n",
              "    }\n",
              "\n",
              "    .dataframe thead th {\n",
              "        text-align: right;\n",
              "    }\n",
              "</style>\n",
              "<table border=\"1\" class=\"dataframe\">\n",
              "  <thead>\n",
              "    <tr style=\"text-align: right;\">\n",
              "      <th></th>\n",
              "      <th>0</th>\n",
              "    </tr>\n",
              "  </thead>\n",
              "  <tbody>\n",
              "    <tr>\n",
              "      <th>DATE</th>\n",
              "      <td>0</td>\n",
              "    </tr>\n",
              "    <tr>\n",
              "      <th>ANONYMIZED CATEGORY</th>\n",
              "      <td>0</td>\n",
              "    </tr>\n",
              "    <tr>\n",
              "      <th>ANONYMIZED PRODUCT</th>\n",
              "      <td>0</td>\n",
              "    </tr>\n",
              "    <tr>\n",
              "      <th>ANONYMIZED BUSINESS</th>\n",
              "      <td>0</td>\n",
              "    </tr>\n",
              "    <tr>\n",
              "      <th>ANONYMIZED LOCATION</th>\n",
              "      <td>0</td>\n",
              "    </tr>\n",
              "    <tr>\n",
              "      <th>QUANTITY</th>\n",
              "      <td>0</td>\n",
              "    </tr>\n",
              "    <tr>\n",
              "      <th>UNIT PRICE</th>\n",
              "      <td>5</td>\n",
              "    </tr>\n",
              "  </tbody>\n",
              "</table>\n",
              "</div><br><label><b>dtype:</b> int64</label>"
            ]
          },
          "metadata": {},
          "execution_count": 84
        }
      ]
    },
    {
      "cell_type": "markdown",
      "source": [
        "After matching and prepopulating the null cells on the Unit Price Column, we still have 5 null cells.These, I will fill them with zero so that they do not skew my analysis, as below.\n"
      ],
      "metadata": {
        "id": "nSFRyTIFpqdH"
      }
    },
    {
      "cell_type": "code",
      "source": [
        "df['UNIT PRICE'] = df['UNIT PRICE'].fillna(0)"
      ],
      "metadata": {
        "id": "X6tK8W7Tp8OB"
      },
      "execution_count": 85,
      "outputs": []
    },
    {
      "cell_type": "code",
      "source": [
        "#Confirming that I no longer have Null values\n",
        "df.isnull().sum()"
      ],
      "metadata": {
        "id": "nH4eLHB3qDOL",
        "colab": {
          "base_uri": "https://localhost:8080/",
          "height": 303
        },
        "outputId": "85c1c057-fb95-4bde-c45a-aca1a4d54827"
      },
      "execution_count": 86,
      "outputs": [
        {
          "output_type": "execute_result",
          "data": {
            "text/plain": [
              "DATE                   0\n",
              "ANONYMIZED CATEGORY    0\n",
              "ANONYMIZED PRODUCT     0\n",
              "ANONYMIZED BUSINESS    0\n",
              "ANONYMIZED LOCATION    0\n",
              "QUANTITY               0\n",
              "UNIT PRICE             0\n",
              "dtype: int64"
            ],
            "text/html": [
              "<div>\n",
              "<style scoped>\n",
              "    .dataframe tbody tr th:only-of-type {\n",
              "        vertical-align: middle;\n",
              "    }\n",
              "\n",
              "    .dataframe tbody tr th {\n",
              "        vertical-align: top;\n",
              "    }\n",
              "\n",
              "    .dataframe thead th {\n",
              "        text-align: right;\n",
              "    }\n",
              "</style>\n",
              "<table border=\"1\" class=\"dataframe\">\n",
              "  <thead>\n",
              "    <tr style=\"text-align: right;\">\n",
              "      <th></th>\n",
              "      <th>0</th>\n",
              "    </tr>\n",
              "  </thead>\n",
              "  <tbody>\n",
              "    <tr>\n",
              "      <th>DATE</th>\n",
              "      <td>0</td>\n",
              "    </tr>\n",
              "    <tr>\n",
              "      <th>ANONYMIZED CATEGORY</th>\n",
              "      <td>0</td>\n",
              "    </tr>\n",
              "    <tr>\n",
              "      <th>ANONYMIZED PRODUCT</th>\n",
              "      <td>0</td>\n",
              "    </tr>\n",
              "    <tr>\n",
              "      <th>ANONYMIZED BUSINESS</th>\n",
              "      <td>0</td>\n",
              "    </tr>\n",
              "    <tr>\n",
              "      <th>ANONYMIZED LOCATION</th>\n",
              "      <td>0</td>\n",
              "    </tr>\n",
              "    <tr>\n",
              "      <th>QUANTITY</th>\n",
              "      <td>0</td>\n",
              "    </tr>\n",
              "    <tr>\n",
              "      <th>UNIT PRICE</th>\n",
              "      <td>0</td>\n",
              "    </tr>\n",
              "  </tbody>\n",
              "</table>\n",
              "</div><br><label><b>dtype:</b> int64</label>"
            ]
          },
          "metadata": {},
          "execution_count": 86
        }
      ]
    },
    {
      "cell_type": "code",
      "source": [
        "#Inspecting for duplicated values in the dataset\n",
        "df.duplicated().sum()"
      ],
      "metadata": {
        "id": "r6CufpvOvUrd",
        "colab": {
          "base_uri": "https://localhost:8080/"
        },
        "outputId": "b400702b-cfad-461d-8b67-5664cea3545d"
      },
      "execution_count": 87,
      "outputs": [
        {
          "output_type": "execute_result",
          "data": {
            "text/plain": [
              "3524"
            ]
          },
          "metadata": {},
          "execution_count": 87
        }
      ]
    },
    {
      "cell_type": "code",
      "source": [
        "#Dropping duplicates\n",
        "df.drop_duplicates(inplace = True)"
      ],
      "metadata": {
        "id": "mBzYJafXJoGo"
      },
      "execution_count": 88,
      "outputs": []
    },
    {
      "cell_type": "code",
      "source": [
        "#Confirming that I no longer have duplicated values\n",
        "df.duplicated().sum()"
      ],
      "metadata": {
        "id": "s9VUBlJgJvQy",
        "colab": {
          "base_uri": "https://localhost:8080/"
        },
        "outputId": "223ffa56-1e31-468c-f687-7045eb944694"
      },
      "execution_count": 89,
      "outputs": [
        {
          "output_type": "execute_result",
          "data": {
            "text/plain": [
              "0"
            ]
          },
          "metadata": {},
          "execution_count": 89
        }
      ]
    },
    {
      "cell_type": "code",
      "source": [
        "#Fixing Inconsistent Data Types\n",
        "df['QUANTITY'] = pd.to_numeric(df['QUANTITY'], errors='coerce').fillna(0)\n",
        "df['UNIT PRICE'] = pd.to_numeric(df['UNIT PRICE'], errors='coerce').fillna(0)"
      ],
      "metadata": {
        "id": "DT-WtC4SwrEO"
      },
      "execution_count": 90,
      "outputs": []
    },
    {
      "cell_type": "code",
      "source": [
        "# Convert the DATE column to a datetime object\n",
        "df['DATE'] = pd.to_datetime(df['DATE'])"
      ],
      "metadata": {
        "colab": {
          "base_uri": "https://localhost:8080/"
        },
        "id": "I_oA7eY5GU98",
        "outputId": "6a3c1d98-6955-4823-fd08-5684bfc157f2"
      },
      "execution_count": 91,
      "outputs": [
        {
          "output_type": "stream",
          "name": "stderr",
          "text": [
            "<ipython-input-91-b1f4a3c7c6b5>:2: UserWarning: Could not infer format, so each element will be parsed individually, falling back to `dateutil`. To ensure parsing is consistent and as-expected, please specify a format.\n",
            "  df['DATE'] = pd.to_datetime(df['DATE'])\n"
          ]
        }
      ]
    },
    {
      "cell_type": "code",
      "source": [
        "#Creating a month-year column\n",
        "df['Month-Year'] = df['DATE'].dt.strftime('%B %Y')"
      ],
      "metadata": {
        "id": "yusPyZrNFbq-"
      },
      "execution_count": 92,
      "outputs": []
    },
    {
      "cell_type": "markdown",
      "source": [
        "**SECTION 2 : EXPLORATORY DATA ANALYSIS**"
      ],
      "metadata": {
        "id": "qVHvLgo1MxFv"
      }
    },
    {
      "cell_type": "code",
      "source": [
        "df.head(10)"
      ],
      "metadata": {
        "id": "OBRX1xNeOSzH",
        "colab": {
          "base_uri": "https://localhost:8080/",
          "height": 553
        },
        "outputId": "a5c81be0-397c-40a2-b980-265bf5677766"
      },
      "execution_count": 93,
      "outputs": [
        {
          "output_type": "execute_result",
          "data": {
            "text/plain": [
              "                 DATE ANONYMIZED CATEGORY ANONYMIZED PRODUCT  \\\n",
              "0 2024-08-18 21:32:00        Category-106       Product-21f4   \n",
              "1 2024-08-18 21:32:00        Category-120       Product-4156   \n",
              "2 2024-08-18 21:32:00        Category-121       Product-49bd   \n",
              "3 2024-08-18 21:32:00         Category-76       Product-61dd   \n",
              "4 2024-08-18 21:32:00        Category-119       Product-66e0   \n",
              "5 2024-08-18 21:32:00         Category-76       Product-6e9c   \n",
              "6 2024-08-18 21:32:00        Category-120       Product-7864   \n",
              "7 2024-08-18 21:32:00        Category-119       Product-7940   \n",
              "8 2024-08-18 21:32:00         Category-96       Product-87b2   \n",
              "9 2024-08-18 21:32:00        Category-106       Product-c14c   \n",
              "\n",
              "  ANONYMIZED BUSINESS ANONYMIZED LOCATION  QUANTITY  UNIT PRICE   Month-Year  \n",
              "0       Business-de42       Location-1ba8         1       850.0  August 2024  \n",
              "1       Business-de42       Location-1ba8         2         0.0  August 2024  \n",
              "2       Business-de42       Location-1ba8         1         0.0  August 2024  \n",
              "3       Business-de42       Location-1ba8         1         0.0  August 2024  \n",
              "4       Business-de42       Location-1ba8         5         0.0  August 2024  \n",
              "5       Business-de42       Location-1ba8         1         0.0  August 2024  \n",
              "6       Business-de42       Location-1ba8         1         0.0  August 2024  \n",
              "7       Business-de42       Location-1ba8         4         0.0  August 2024  \n",
              "8       Business-de42       Location-1ba8         1       805.0  August 2024  \n",
              "9       Business-de42       Location-1ba8         1         0.0  August 2024  "
            ],
            "text/html": [
              "\n",
              "  <div id=\"df-cfca71fa-ef0a-4eb2-85a5-44edfa52dec1\" class=\"colab-df-container\">\n",
              "    <div>\n",
              "<style scoped>\n",
              "    .dataframe tbody tr th:only-of-type {\n",
              "        vertical-align: middle;\n",
              "    }\n",
              "\n",
              "    .dataframe tbody tr th {\n",
              "        vertical-align: top;\n",
              "    }\n",
              "\n",
              "    .dataframe thead th {\n",
              "        text-align: right;\n",
              "    }\n",
              "</style>\n",
              "<table border=\"1\" class=\"dataframe\">\n",
              "  <thead>\n",
              "    <tr style=\"text-align: right;\">\n",
              "      <th></th>\n",
              "      <th>DATE</th>\n",
              "      <th>ANONYMIZED CATEGORY</th>\n",
              "      <th>ANONYMIZED PRODUCT</th>\n",
              "      <th>ANONYMIZED BUSINESS</th>\n",
              "      <th>ANONYMIZED LOCATION</th>\n",
              "      <th>QUANTITY</th>\n",
              "      <th>UNIT PRICE</th>\n",
              "      <th>Month-Year</th>\n",
              "    </tr>\n",
              "  </thead>\n",
              "  <tbody>\n",
              "    <tr>\n",
              "      <th>0</th>\n",
              "      <td>2024-08-18 21:32:00</td>\n",
              "      <td>Category-106</td>\n",
              "      <td>Product-21f4</td>\n",
              "      <td>Business-de42</td>\n",
              "      <td>Location-1ba8</td>\n",
              "      <td>1</td>\n",
              "      <td>850.0</td>\n",
              "      <td>August 2024</td>\n",
              "    </tr>\n",
              "    <tr>\n",
              "      <th>1</th>\n",
              "      <td>2024-08-18 21:32:00</td>\n",
              "      <td>Category-120</td>\n",
              "      <td>Product-4156</td>\n",
              "      <td>Business-de42</td>\n",
              "      <td>Location-1ba8</td>\n",
              "      <td>2</td>\n",
              "      <td>0.0</td>\n",
              "      <td>August 2024</td>\n",
              "    </tr>\n",
              "    <tr>\n",
              "      <th>2</th>\n",
              "      <td>2024-08-18 21:32:00</td>\n",
              "      <td>Category-121</td>\n",
              "      <td>Product-49bd</td>\n",
              "      <td>Business-de42</td>\n",
              "      <td>Location-1ba8</td>\n",
              "      <td>1</td>\n",
              "      <td>0.0</td>\n",
              "      <td>August 2024</td>\n",
              "    </tr>\n",
              "    <tr>\n",
              "      <th>3</th>\n",
              "      <td>2024-08-18 21:32:00</td>\n",
              "      <td>Category-76</td>\n",
              "      <td>Product-61dd</td>\n",
              "      <td>Business-de42</td>\n",
              "      <td>Location-1ba8</td>\n",
              "      <td>1</td>\n",
              "      <td>0.0</td>\n",
              "      <td>August 2024</td>\n",
              "    </tr>\n",
              "    <tr>\n",
              "      <th>4</th>\n",
              "      <td>2024-08-18 21:32:00</td>\n",
              "      <td>Category-119</td>\n",
              "      <td>Product-66e0</td>\n",
              "      <td>Business-de42</td>\n",
              "      <td>Location-1ba8</td>\n",
              "      <td>5</td>\n",
              "      <td>0.0</td>\n",
              "      <td>August 2024</td>\n",
              "    </tr>\n",
              "    <tr>\n",
              "      <th>5</th>\n",
              "      <td>2024-08-18 21:32:00</td>\n",
              "      <td>Category-76</td>\n",
              "      <td>Product-6e9c</td>\n",
              "      <td>Business-de42</td>\n",
              "      <td>Location-1ba8</td>\n",
              "      <td>1</td>\n",
              "      <td>0.0</td>\n",
              "      <td>August 2024</td>\n",
              "    </tr>\n",
              "    <tr>\n",
              "      <th>6</th>\n",
              "      <td>2024-08-18 21:32:00</td>\n",
              "      <td>Category-120</td>\n",
              "      <td>Product-7864</td>\n",
              "      <td>Business-de42</td>\n",
              "      <td>Location-1ba8</td>\n",
              "      <td>1</td>\n",
              "      <td>0.0</td>\n",
              "      <td>August 2024</td>\n",
              "    </tr>\n",
              "    <tr>\n",
              "      <th>7</th>\n",
              "      <td>2024-08-18 21:32:00</td>\n",
              "      <td>Category-119</td>\n",
              "      <td>Product-7940</td>\n",
              "      <td>Business-de42</td>\n",
              "      <td>Location-1ba8</td>\n",
              "      <td>4</td>\n",
              "      <td>0.0</td>\n",
              "      <td>August 2024</td>\n",
              "    </tr>\n",
              "    <tr>\n",
              "      <th>8</th>\n",
              "      <td>2024-08-18 21:32:00</td>\n",
              "      <td>Category-96</td>\n",
              "      <td>Product-87b2</td>\n",
              "      <td>Business-de42</td>\n",
              "      <td>Location-1ba8</td>\n",
              "      <td>1</td>\n",
              "      <td>805.0</td>\n",
              "      <td>August 2024</td>\n",
              "    </tr>\n",
              "    <tr>\n",
              "      <th>9</th>\n",
              "      <td>2024-08-18 21:32:00</td>\n",
              "      <td>Category-106</td>\n",
              "      <td>Product-c14c</td>\n",
              "      <td>Business-de42</td>\n",
              "      <td>Location-1ba8</td>\n",
              "      <td>1</td>\n",
              "      <td>0.0</td>\n",
              "      <td>August 2024</td>\n",
              "    </tr>\n",
              "  </tbody>\n",
              "</table>\n",
              "</div>\n",
              "    <div class=\"colab-df-buttons\">\n",
              "\n",
              "  <div class=\"colab-df-container\">\n",
              "    <button class=\"colab-df-convert\" onclick=\"convertToInteractive('df-cfca71fa-ef0a-4eb2-85a5-44edfa52dec1')\"\n",
              "            title=\"Convert this dataframe to an interactive table.\"\n",
              "            style=\"display:none;\">\n",
              "\n",
              "  <svg xmlns=\"http://www.w3.org/2000/svg\" height=\"24px\" viewBox=\"0 -960 960 960\">\n",
              "    <path d=\"M120-120v-720h720v720H120Zm60-500h600v-160H180v160Zm220 220h160v-160H400v160Zm0 220h160v-160H400v160ZM180-400h160v-160H180v160Zm440 0h160v-160H620v160ZM180-180h160v-160H180v160Zm440 0h160v-160H620v160Z\"/>\n",
              "  </svg>\n",
              "    </button>\n",
              "\n",
              "  <style>\n",
              "    .colab-df-container {\n",
              "      display:flex;\n",
              "      gap: 12px;\n",
              "    }\n",
              "\n",
              "    .colab-df-convert {\n",
              "      background-color: #E8F0FE;\n",
              "      border: none;\n",
              "      border-radius: 50%;\n",
              "      cursor: pointer;\n",
              "      display: none;\n",
              "      fill: #1967D2;\n",
              "      height: 32px;\n",
              "      padding: 0 0 0 0;\n",
              "      width: 32px;\n",
              "    }\n",
              "\n",
              "    .colab-df-convert:hover {\n",
              "      background-color: #E2EBFA;\n",
              "      box-shadow: 0px 1px 2px rgba(60, 64, 67, 0.3), 0px 1px 3px 1px rgba(60, 64, 67, 0.15);\n",
              "      fill: #174EA6;\n",
              "    }\n",
              "\n",
              "    .colab-df-buttons div {\n",
              "      margin-bottom: 4px;\n",
              "    }\n",
              "\n",
              "    [theme=dark] .colab-df-convert {\n",
              "      background-color: #3B4455;\n",
              "      fill: #D2E3FC;\n",
              "    }\n",
              "\n",
              "    [theme=dark] .colab-df-convert:hover {\n",
              "      background-color: #434B5C;\n",
              "      box-shadow: 0px 1px 3px 1px rgba(0, 0, 0, 0.15);\n",
              "      filter: drop-shadow(0px 1px 2px rgba(0, 0, 0, 0.3));\n",
              "      fill: #FFFFFF;\n",
              "    }\n",
              "  </style>\n",
              "\n",
              "    <script>\n",
              "      const buttonEl =\n",
              "        document.querySelector('#df-cfca71fa-ef0a-4eb2-85a5-44edfa52dec1 button.colab-df-convert');\n",
              "      buttonEl.style.display =\n",
              "        google.colab.kernel.accessAllowed ? 'block' : 'none';\n",
              "\n",
              "      async function convertToInteractive(key) {\n",
              "        const element = document.querySelector('#df-cfca71fa-ef0a-4eb2-85a5-44edfa52dec1');\n",
              "        const dataTable =\n",
              "          await google.colab.kernel.invokeFunction('convertToInteractive',\n",
              "                                                    [key], {});\n",
              "        if (!dataTable) return;\n",
              "\n",
              "        const docLinkHtml = 'Like what you see? Visit the ' +\n",
              "          '<a target=\"_blank\" href=https://colab.research.google.com/notebooks/data_table.ipynb>data table notebook</a>'\n",
              "          + ' to learn more about interactive tables.';\n",
              "        element.innerHTML = '';\n",
              "        dataTable['output_type'] = 'display_data';\n",
              "        await google.colab.output.renderOutput(dataTable, element);\n",
              "        const docLink = document.createElement('div');\n",
              "        docLink.innerHTML = docLinkHtml;\n",
              "        element.appendChild(docLink);\n",
              "      }\n",
              "    </script>\n",
              "  </div>\n",
              "\n",
              "\n",
              "<div id=\"df-1dc41fb8-0990-43d9-8399-e5342e06cc4c\">\n",
              "  <button class=\"colab-df-quickchart\" onclick=\"quickchart('df-1dc41fb8-0990-43d9-8399-e5342e06cc4c')\"\n",
              "            title=\"Suggest charts\"\n",
              "            style=\"display:none;\">\n",
              "\n",
              "<svg xmlns=\"http://www.w3.org/2000/svg\" height=\"24px\"viewBox=\"0 0 24 24\"\n",
              "     width=\"24px\">\n",
              "    <g>\n",
              "        <path d=\"M19 3H5c-1.1 0-2 .9-2 2v14c0 1.1.9 2 2 2h14c1.1 0 2-.9 2-2V5c0-1.1-.9-2-2-2zM9 17H7v-7h2v7zm4 0h-2V7h2v10zm4 0h-2v-4h2v4z\"/>\n",
              "    </g>\n",
              "</svg>\n",
              "  </button>\n",
              "\n",
              "<style>\n",
              "  .colab-df-quickchart {\n",
              "      --bg-color: #E8F0FE;\n",
              "      --fill-color: #1967D2;\n",
              "      --hover-bg-color: #E2EBFA;\n",
              "      --hover-fill-color: #174EA6;\n",
              "      --disabled-fill-color: #AAA;\n",
              "      --disabled-bg-color: #DDD;\n",
              "  }\n",
              "\n",
              "  [theme=dark] .colab-df-quickchart {\n",
              "      --bg-color: #3B4455;\n",
              "      --fill-color: #D2E3FC;\n",
              "      --hover-bg-color: #434B5C;\n",
              "      --hover-fill-color: #FFFFFF;\n",
              "      --disabled-bg-color: #3B4455;\n",
              "      --disabled-fill-color: #666;\n",
              "  }\n",
              "\n",
              "  .colab-df-quickchart {\n",
              "    background-color: var(--bg-color);\n",
              "    border: none;\n",
              "    border-radius: 50%;\n",
              "    cursor: pointer;\n",
              "    display: none;\n",
              "    fill: var(--fill-color);\n",
              "    height: 32px;\n",
              "    padding: 0;\n",
              "    width: 32px;\n",
              "  }\n",
              "\n",
              "  .colab-df-quickchart:hover {\n",
              "    background-color: var(--hover-bg-color);\n",
              "    box-shadow: 0 1px 2px rgba(60, 64, 67, 0.3), 0 1px 3px 1px rgba(60, 64, 67, 0.15);\n",
              "    fill: var(--button-hover-fill-color);\n",
              "  }\n",
              "\n",
              "  .colab-df-quickchart-complete:disabled,\n",
              "  .colab-df-quickchart-complete:disabled:hover {\n",
              "    background-color: var(--disabled-bg-color);\n",
              "    fill: var(--disabled-fill-color);\n",
              "    box-shadow: none;\n",
              "  }\n",
              "\n",
              "  .colab-df-spinner {\n",
              "    border: 2px solid var(--fill-color);\n",
              "    border-color: transparent;\n",
              "    border-bottom-color: var(--fill-color);\n",
              "    animation:\n",
              "      spin 1s steps(1) infinite;\n",
              "  }\n",
              "\n",
              "  @keyframes spin {\n",
              "    0% {\n",
              "      border-color: transparent;\n",
              "      border-bottom-color: var(--fill-color);\n",
              "      border-left-color: var(--fill-color);\n",
              "    }\n",
              "    20% {\n",
              "      border-color: transparent;\n",
              "      border-left-color: var(--fill-color);\n",
              "      border-top-color: var(--fill-color);\n",
              "    }\n",
              "    30% {\n",
              "      border-color: transparent;\n",
              "      border-left-color: var(--fill-color);\n",
              "      border-top-color: var(--fill-color);\n",
              "      border-right-color: var(--fill-color);\n",
              "    }\n",
              "    40% {\n",
              "      border-color: transparent;\n",
              "      border-right-color: var(--fill-color);\n",
              "      border-top-color: var(--fill-color);\n",
              "    }\n",
              "    60% {\n",
              "      border-color: transparent;\n",
              "      border-right-color: var(--fill-color);\n",
              "    }\n",
              "    80% {\n",
              "      border-color: transparent;\n",
              "      border-right-color: var(--fill-color);\n",
              "      border-bottom-color: var(--fill-color);\n",
              "    }\n",
              "    90% {\n",
              "      border-color: transparent;\n",
              "      border-bottom-color: var(--fill-color);\n",
              "    }\n",
              "  }\n",
              "</style>\n",
              "\n",
              "  <script>\n",
              "    async function quickchart(key) {\n",
              "      const quickchartButtonEl =\n",
              "        document.querySelector('#' + key + ' button');\n",
              "      quickchartButtonEl.disabled = true;  // To prevent multiple clicks.\n",
              "      quickchartButtonEl.classList.add('colab-df-spinner');\n",
              "      try {\n",
              "        const charts = await google.colab.kernel.invokeFunction(\n",
              "            'suggestCharts', [key], {});\n",
              "      } catch (error) {\n",
              "        console.error('Error during call to suggestCharts:', error);\n",
              "      }\n",
              "      quickchartButtonEl.classList.remove('colab-df-spinner');\n",
              "      quickchartButtonEl.classList.add('colab-df-quickchart-complete');\n",
              "    }\n",
              "    (() => {\n",
              "      let quickchartButtonEl =\n",
              "        document.querySelector('#df-1dc41fb8-0990-43d9-8399-e5342e06cc4c button');\n",
              "      quickchartButtonEl.style.display =\n",
              "        google.colab.kernel.accessAllowed ? 'block' : 'none';\n",
              "    })();\n",
              "  </script>\n",
              "</div>\n",
              "\n",
              "    </div>\n",
              "  </div>\n"
            ],
            "application/vnd.google.colaboratory.intrinsic+json": {
              "type": "dataframe",
              "variable_name": "df"
            }
          },
          "metadata": {},
          "execution_count": 93
        }
      ]
    },
    {
      "cell_type": "code",
      "source": [
        "# Calculating the  total quantity and total value grouped by the two columns\n",
        "result = df.groupby(['ANONYMIZED CATEGORY', 'ANONYMIZED BUSINESS']).agg(\n",
        "    Total_Quantity=('QUANTITY','sum'),\n",
        "    Total_Value=('UNIT PRICE', lambda x: sum(x*df.loc[x.index, 'QUANTITY']))\n",
        ").reset_index()\n",
        "\n",
        "print(result)"
      ],
      "metadata": {
        "id": "iEdBDrRLpYHI",
        "colab": {
          "base_uri": "https://localhost:8080/"
        },
        "outputId": "ca9bda7a-54dd-4fc7-a5a7-d020e2a08685"
      },
      "execution_count": 94,
      "outputs": [
        {
          "output_type": "stream",
          "name": "stdout",
          "text": [
            "      ANONYMIZED CATEGORY ANONYMIZED BUSINESS  Total_Quantity  Total_Value\n",
            "0            Category-100       Business-0000               1          0.0\n",
            "1            Category-100       Business-00b7               2          0.0\n",
            "2            Category-100       Business-016c              22          0.0\n",
            "3            Category-100       Business-0197               2          0.0\n",
            "4            Category-100       Business-0204               5          0.0\n",
            "...                   ...                 ...             ...          ...\n",
            "36166         Category-99       Business-fe3e               5       1630.0\n",
            "36167         Category-99       Business-fe46              14       7785.0\n",
            "36168         Category-99       Business-fe4b               7       4485.0\n",
            "36169         Category-99       Business-fef1               6       3420.0\n",
            "36170         Category-99       Business-ffff              14       8460.0\n",
            "\n",
            "[36171 rows x 4 columns]\n"
          ]
        }
      ]
    },
    {
      "cell_type": "code",
      "source": [
        "# Filter rows where 'Total Value' is 0.0\n",
        "df[df['QUANTITY']==0]"
      ],
      "metadata": {
        "id": "_VuWPi597j3F",
        "colab": {
          "base_uri": "https://localhost:8080/",
          "height": 1000
        },
        "outputId": "49b83b60-b4f0-4c15-fbca-819550797a1a"
      },
      "execution_count": 95,
      "outputs": [
        {
          "output_type": "execute_result",
          "data": {
            "text/plain": [
              "                      DATE ANONYMIZED CATEGORY ANONYMIZED PRODUCT  \\\n",
              "19828  2024-12-20 21:07:00        Category-113       Product-6342   \n",
              "48930  2024-06-02 10:18:00         Category-75       Product-4832   \n",
              "48931  2024-06-02 10:18:00         Category-75       Product-6aa1   \n",
              "48932  2024-06-02 10:18:00        Category-100       Product-f3ee   \n",
              "60118  2024-06-14 11:11:00        Category-120       Product-14f3   \n",
              "63254  2024-05-09 14:06:00         Category-75       Product-8b33   \n",
              "67161  2024-07-02 13:45:00         Category-78       Product-b409   \n",
              "90630  2024-06-07 21:06:00         Category-78       Product-b409   \n",
              "100956 2024-06-11 09:10:00        Category-120       Product-83fd   \n",
              "102391 2024-06-05 12:09:00        Category-105       Product-acb9   \n",
              "105954 2024-06-07 21:22:00         Category-91       Product-16bb   \n",
              "110094 2024-04-07 21:58:00         Category-85       Product-e650   \n",
              "117450 2024-06-10 12:40:00        Category-113       Product-a030   \n",
              "131169 2024-07-03 18:59:00         Category-85       Product-0c64   \n",
              "137288 2024-05-10 13:34:00         Category-85       Product-0331   \n",
              "138688 2024-12-31 11:29:00        Category-120       Product-4156   \n",
              "143014 2024-03-04 15:17:00         Category-85       Product-6859   \n",
              "143015 2024-03-04 15:25:00         Category-85       Product-86ab   \n",
              "143017 2024-03-04 15:16:00        Category-101       Product-fd67   \n",
              "155548 2024-06-25 11:32:00        Category-120       Product-3050   \n",
              "187931 2024-12-19 22:03:00        Category-113       Product-6342   \n",
              "195936 2024-05-17 09:59:00         Category-76       Product-e805   \n",
              "199249 2024-12-09 21:18:00         Category-77       Product-5067   \n",
              "200117 2024-05-20 09:05:00        Category-120       Product-3050   \n",
              "211226 2024-06-02 23:26:00         Category-76       Product-6e9c   \n",
              "221754 2024-06-10 11:13:00         Category-75       Product-faa5   \n",
              "222851 2024-05-16 11:22:00         Category-85       Product-114f   \n",
              "223039 2024-06-11 13:21:00         Category-76       Product-e805   \n",
              "237603 2024-05-28 15:22:00         Category-75       Product-8f75   \n",
              "237604 2024-05-28 15:22:00        Category-110       Product-a325   \n",
              "240937 2024-06-04 18:24:00        Category-107       Product-8d56   \n",
              "245466 2024-05-06 17:39:00        Category-121       Product-57c1   \n",
              "252796 2024-03-05 00:03:00         Category-76       Product-113e   \n",
              "258779 2024-05-13 12:15:00         Category-76       Product-e805   \n",
              "293397 2024-12-31 11:28:00        Category-120       Product-83fd   \n",
              "299788 2024-12-29 20:02:00         Category-84       Product-ee8b   \n",
              "310150 2024-05-18 13:58:00         Category-75       Product-8f75   \n",
              "329123 2024-12-01 19:49:00         Category-75       Product-2175   \n",
              "\n",
              "       ANONYMIZED BUSINESS ANONYMIZED LOCATION  QUANTITY  UNIT PRICE  \\\n",
              "19828        Business-4305       Location-3e32         0         2.0   \n",
              "48930        Business-195b       Location-c86b         0         0.0   \n",
              "48931        Business-195b       Location-c86b         0         0.0   \n",
              "48932        Business-195b       Location-c86b         0         0.0   \n",
              "60118        Business-1b8b       Location-c2f2         0         0.0   \n",
              "63254        Business-2592       Location-9149         0         0.0   \n",
              "67161        Business-54ac       Location-e2f8         0       750.0   \n",
              "90630        Business-5e1d       Location-d32a         0       750.0   \n",
              "100956       Business-5cac       Location-e2f8         0         0.0   \n",
              "102391       Business-af19       Location-4ea1         0         0.0   \n",
              "105954       Business-54c5       Location-f37d         0       135.0   \n",
              "110094       Business-14ca       Location-c2f2         0         0.0   \n",
              "117450       Business-b07b       Location-f37d         0         0.0   \n",
              "131169       Business-4a11       Location-e2f8         0         0.0   \n",
              "137288       Business-fe37       Location-3e32         0         0.0   \n",
              "138688       Business-0523       Location-3e32         0         0.0   \n",
              "143014       Business-978e       Location-1c33         0       960.0   \n",
              "143015       Business-978e       Location-1c33         0         0.0   \n",
              "143017       Business-978e       Location-1c33         0         0.0   \n",
              "155548       Business-659d       Location-689f         0         0.0   \n",
              "187931       Business-d7c6       Location-3e32         0         2.0   \n",
              "195936       Business-18fe       Location-e2f8         0         0.0   \n",
              "199249       Business-2213       Location-3fc0         0         0.0   \n",
              "200117       Business-37ea       Location-e2f8         0         0.0   \n",
              "211226       Business-e41e       Location-1ba8         0         0.0   \n",
              "221754       Business-1269       Location-f37d         0         0.0   \n",
              "222851       Business-88e8       Location-c2f2         0         0.0   \n",
              "223039       Business-5620       Location-1979         0         0.0   \n",
              "237603       Business-d26f       Location-1979         0         0.0   \n",
              "237604       Business-d26f       Location-1979         0       438.0   \n",
              "240937       Business-7c29       Location-e2f8         0         0.0   \n",
              "245466       Business-06ba       Location-3e32         0         0.0   \n",
              "252796       Business-cc1e       Location-d1a8         0         0.0   \n",
              "258779       Business-2ec4       Location-f37d         0         0.0   \n",
              "293397       Business-0523       Location-3e32         0         0.0   \n",
              "299788       Business-2366       Location-689f         0       680.0   \n",
              "310150       Business-c192       Location-1979         0         0.0   \n",
              "329123       Business-aac2       Location-4ea1         0         0.0   \n",
              "\n",
              "           Month-Year  \n",
              "19828   December 2024  \n",
              "48930       June 2024  \n",
              "48931       June 2024  \n",
              "48932       June 2024  \n",
              "60118       June 2024  \n",
              "63254        May 2024  \n",
              "67161       July 2024  \n",
              "90630       June 2024  \n",
              "100956      June 2024  \n",
              "102391      June 2024  \n",
              "105954      June 2024  \n",
              "110094     April 2024  \n",
              "117450      June 2024  \n",
              "131169      July 2024  \n",
              "137288       May 2024  \n",
              "138688  December 2024  \n",
              "143014     March 2024  \n",
              "143015     March 2024  \n",
              "143017     March 2024  \n",
              "155548      June 2024  \n",
              "187931  December 2024  \n",
              "195936       May 2024  \n",
              "199249  December 2024  \n",
              "200117       May 2024  \n",
              "211226      June 2024  \n",
              "221754      June 2024  \n",
              "222851       May 2024  \n",
              "223039      June 2024  \n",
              "237603       May 2024  \n",
              "237604       May 2024  \n",
              "240937      June 2024  \n",
              "245466       May 2024  \n",
              "252796     March 2024  \n",
              "258779       May 2024  \n",
              "293397  December 2024  \n",
              "299788  December 2024  \n",
              "310150       May 2024  \n",
              "329123  December 2024  "
            ],
            "text/html": [
              "\n",
              "  <div id=\"df-52d680e7-cf3d-431c-81a9-110770c0933e\" class=\"colab-df-container\">\n",
              "    <div>\n",
              "<style scoped>\n",
              "    .dataframe tbody tr th:only-of-type {\n",
              "        vertical-align: middle;\n",
              "    }\n",
              "\n",
              "    .dataframe tbody tr th {\n",
              "        vertical-align: top;\n",
              "    }\n",
              "\n",
              "    .dataframe thead th {\n",
              "        text-align: right;\n",
              "    }\n",
              "</style>\n",
              "<table border=\"1\" class=\"dataframe\">\n",
              "  <thead>\n",
              "    <tr style=\"text-align: right;\">\n",
              "      <th></th>\n",
              "      <th>DATE</th>\n",
              "      <th>ANONYMIZED CATEGORY</th>\n",
              "      <th>ANONYMIZED PRODUCT</th>\n",
              "      <th>ANONYMIZED BUSINESS</th>\n",
              "      <th>ANONYMIZED LOCATION</th>\n",
              "      <th>QUANTITY</th>\n",
              "      <th>UNIT PRICE</th>\n",
              "      <th>Month-Year</th>\n",
              "    </tr>\n",
              "  </thead>\n",
              "  <tbody>\n",
              "    <tr>\n",
              "      <th>19828</th>\n",
              "      <td>2024-12-20 21:07:00</td>\n",
              "      <td>Category-113</td>\n",
              "      <td>Product-6342</td>\n",
              "      <td>Business-4305</td>\n",
              "      <td>Location-3e32</td>\n",
              "      <td>0</td>\n",
              "      <td>2.0</td>\n",
              "      <td>December 2024</td>\n",
              "    </tr>\n",
              "    <tr>\n",
              "      <th>48930</th>\n",
              "      <td>2024-06-02 10:18:00</td>\n",
              "      <td>Category-75</td>\n",
              "      <td>Product-4832</td>\n",
              "      <td>Business-195b</td>\n",
              "      <td>Location-c86b</td>\n",
              "      <td>0</td>\n",
              "      <td>0.0</td>\n",
              "      <td>June 2024</td>\n",
              "    </tr>\n",
              "    <tr>\n",
              "      <th>48931</th>\n",
              "      <td>2024-06-02 10:18:00</td>\n",
              "      <td>Category-75</td>\n",
              "      <td>Product-6aa1</td>\n",
              "      <td>Business-195b</td>\n",
              "      <td>Location-c86b</td>\n",
              "      <td>0</td>\n",
              "      <td>0.0</td>\n",
              "      <td>June 2024</td>\n",
              "    </tr>\n",
              "    <tr>\n",
              "      <th>48932</th>\n",
              "      <td>2024-06-02 10:18:00</td>\n",
              "      <td>Category-100</td>\n",
              "      <td>Product-f3ee</td>\n",
              "      <td>Business-195b</td>\n",
              "      <td>Location-c86b</td>\n",
              "      <td>0</td>\n",
              "      <td>0.0</td>\n",
              "      <td>June 2024</td>\n",
              "    </tr>\n",
              "    <tr>\n",
              "      <th>60118</th>\n",
              "      <td>2024-06-14 11:11:00</td>\n",
              "      <td>Category-120</td>\n",
              "      <td>Product-14f3</td>\n",
              "      <td>Business-1b8b</td>\n",
              "      <td>Location-c2f2</td>\n",
              "      <td>0</td>\n",
              "      <td>0.0</td>\n",
              "      <td>June 2024</td>\n",
              "    </tr>\n",
              "    <tr>\n",
              "      <th>63254</th>\n",
              "      <td>2024-05-09 14:06:00</td>\n",
              "      <td>Category-75</td>\n",
              "      <td>Product-8b33</td>\n",
              "      <td>Business-2592</td>\n",
              "      <td>Location-9149</td>\n",
              "      <td>0</td>\n",
              "      <td>0.0</td>\n",
              "      <td>May 2024</td>\n",
              "    </tr>\n",
              "    <tr>\n",
              "      <th>67161</th>\n",
              "      <td>2024-07-02 13:45:00</td>\n",
              "      <td>Category-78</td>\n",
              "      <td>Product-b409</td>\n",
              "      <td>Business-54ac</td>\n",
              "      <td>Location-e2f8</td>\n",
              "      <td>0</td>\n",
              "      <td>750.0</td>\n",
              "      <td>July 2024</td>\n",
              "    </tr>\n",
              "    <tr>\n",
              "      <th>90630</th>\n",
              "      <td>2024-06-07 21:06:00</td>\n",
              "      <td>Category-78</td>\n",
              "      <td>Product-b409</td>\n",
              "      <td>Business-5e1d</td>\n",
              "      <td>Location-d32a</td>\n",
              "      <td>0</td>\n",
              "      <td>750.0</td>\n",
              "      <td>June 2024</td>\n",
              "    </tr>\n",
              "    <tr>\n",
              "      <th>100956</th>\n",
              "      <td>2024-06-11 09:10:00</td>\n",
              "      <td>Category-120</td>\n",
              "      <td>Product-83fd</td>\n",
              "      <td>Business-5cac</td>\n",
              "      <td>Location-e2f8</td>\n",
              "      <td>0</td>\n",
              "      <td>0.0</td>\n",
              "      <td>June 2024</td>\n",
              "    </tr>\n",
              "    <tr>\n",
              "      <th>102391</th>\n",
              "      <td>2024-06-05 12:09:00</td>\n",
              "      <td>Category-105</td>\n",
              "      <td>Product-acb9</td>\n",
              "      <td>Business-af19</td>\n",
              "      <td>Location-4ea1</td>\n",
              "      <td>0</td>\n",
              "      <td>0.0</td>\n",
              "      <td>June 2024</td>\n",
              "    </tr>\n",
              "    <tr>\n",
              "      <th>105954</th>\n",
              "      <td>2024-06-07 21:22:00</td>\n",
              "      <td>Category-91</td>\n",
              "      <td>Product-16bb</td>\n",
              "      <td>Business-54c5</td>\n",
              "      <td>Location-f37d</td>\n",
              "      <td>0</td>\n",
              "      <td>135.0</td>\n",
              "      <td>June 2024</td>\n",
              "    </tr>\n",
              "    <tr>\n",
              "      <th>110094</th>\n",
              "      <td>2024-04-07 21:58:00</td>\n",
              "      <td>Category-85</td>\n",
              "      <td>Product-e650</td>\n",
              "      <td>Business-14ca</td>\n",
              "      <td>Location-c2f2</td>\n",
              "      <td>0</td>\n",
              "      <td>0.0</td>\n",
              "      <td>April 2024</td>\n",
              "    </tr>\n",
              "    <tr>\n",
              "      <th>117450</th>\n",
              "      <td>2024-06-10 12:40:00</td>\n",
              "      <td>Category-113</td>\n",
              "      <td>Product-a030</td>\n",
              "      <td>Business-b07b</td>\n",
              "      <td>Location-f37d</td>\n",
              "      <td>0</td>\n",
              "      <td>0.0</td>\n",
              "      <td>June 2024</td>\n",
              "    </tr>\n",
              "    <tr>\n",
              "      <th>131169</th>\n",
              "      <td>2024-07-03 18:59:00</td>\n",
              "      <td>Category-85</td>\n",
              "      <td>Product-0c64</td>\n",
              "      <td>Business-4a11</td>\n",
              "      <td>Location-e2f8</td>\n",
              "      <td>0</td>\n",
              "      <td>0.0</td>\n",
              "      <td>July 2024</td>\n",
              "    </tr>\n",
              "    <tr>\n",
              "      <th>137288</th>\n",
              "      <td>2024-05-10 13:34:00</td>\n",
              "      <td>Category-85</td>\n",
              "      <td>Product-0331</td>\n",
              "      <td>Business-fe37</td>\n",
              "      <td>Location-3e32</td>\n",
              "      <td>0</td>\n",
              "      <td>0.0</td>\n",
              "      <td>May 2024</td>\n",
              "    </tr>\n",
              "    <tr>\n",
              "      <th>138688</th>\n",
              "      <td>2024-12-31 11:29:00</td>\n",
              "      <td>Category-120</td>\n",
              "      <td>Product-4156</td>\n",
              "      <td>Business-0523</td>\n",
              "      <td>Location-3e32</td>\n",
              "      <td>0</td>\n",
              "      <td>0.0</td>\n",
              "      <td>December 2024</td>\n",
              "    </tr>\n",
              "    <tr>\n",
              "      <th>143014</th>\n",
              "      <td>2024-03-04 15:17:00</td>\n",
              "      <td>Category-85</td>\n",
              "      <td>Product-6859</td>\n",
              "      <td>Business-978e</td>\n",
              "      <td>Location-1c33</td>\n",
              "      <td>0</td>\n",
              "      <td>960.0</td>\n",
              "      <td>March 2024</td>\n",
              "    </tr>\n",
              "    <tr>\n",
              "      <th>143015</th>\n",
              "      <td>2024-03-04 15:25:00</td>\n",
              "      <td>Category-85</td>\n",
              "      <td>Product-86ab</td>\n",
              "      <td>Business-978e</td>\n",
              "      <td>Location-1c33</td>\n",
              "      <td>0</td>\n",
              "      <td>0.0</td>\n",
              "      <td>March 2024</td>\n",
              "    </tr>\n",
              "    <tr>\n",
              "      <th>143017</th>\n",
              "      <td>2024-03-04 15:16:00</td>\n",
              "      <td>Category-101</td>\n",
              "      <td>Product-fd67</td>\n",
              "      <td>Business-978e</td>\n",
              "      <td>Location-1c33</td>\n",
              "      <td>0</td>\n",
              "      <td>0.0</td>\n",
              "      <td>March 2024</td>\n",
              "    </tr>\n",
              "    <tr>\n",
              "      <th>155548</th>\n",
              "      <td>2024-06-25 11:32:00</td>\n",
              "      <td>Category-120</td>\n",
              "      <td>Product-3050</td>\n",
              "      <td>Business-659d</td>\n",
              "      <td>Location-689f</td>\n",
              "      <td>0</td>\n",
              "      <td>0.0</td>\n",
              "      <td>June 2024</td>\n",
              "    </tr>\n",
              "    <tr>\n",
              "      <th>187931</th>\n",
              "      <td>2024-12-19 22:03:00</td>\n",
              "      <td>Category-113</td>\n",
              "      <td>Product-6342</td>\n",
              "      <td>Business-d7c6</td>\n",
              "      <td>Location-3e32</td>\n",
              "      <td>0</td>\n",
              "      <td>2.0</td>\n",
              "      <td>December 2024</td>\n",
              "    </tr>\n",
              "    <tr>\n",
              "      <th>195936</th>\n",
              "      <td>2024-05-17 09:59:00</td>\n",
              "      <td>Category-76</td>\n",
              "      <td>Product-e805</td>\n",
              "      <td>Business-18fe</td>\n",
              "      <td>Location-e2f8</td>\n",
              "      <td>0</td>\n",
              "      <td>0.0</td>\n",
              "      <td>May 2024</td>\n",
              "    </tr>\n",
              "    <tr>\n",
              "      <th>199249</th>\n",
              "      <td>2024-12-09 21:18:00</td>\n",
              "      <td>Category-77</td>\n",
              "      <td>Product-5067</td>\n",
              "      <td>Business-2213</td>\n",
              "      <td>Location-3fc0</td>\n",
              "      <td>0</td>\n",
              "      <td>0.0</td>\n",
              "      <td>December 2024</td>\n",
              "    </tr>\n",
              "    <tr>\n",
              "      <th>200117</th>\n",
              "      <td>2024-05-20 09:05:00</td>\n",
              "      <td>Category-120</td>\n",
              "      <td>Product-3050</td>\n",
              "      <td>Business-37ea</td>\n",
              "      <td>Location-e2f8</td>\n",
              "      <td>0</td>\n",
              "      <td>0.0</td>\n",
              "      <td>May 2024</td>\n",
              "    </tr>\n",
              "    <tr>\n",
              "      <th>211226</th>\n",
              "      <td>2024-06-02 23:26:00</td>\n",
              "      <td>Category-76</td>\n",
              "      <td>Product-6e9c</td>\n",
              "      <td>Business-e41e</td>\n",
              "      <td>Location-1ba8</td>\n",
              "      <td>0</td>\n",
              "      <td>0.0</td>\n",
              "      <td>June 2024</td>\n",
              "    </tr>\n",
              "    <tr>\n",
              "      <th>221754</th>\n",
              "      <td>2024-06-10 11:13:00</td>\n",
              "      <td>Category-75</td>\n",
              "      <td>Product-faa5</td>\n",
              "      <td>Business-1269</td>\n",
              "      <td>Location-f37d</td>\n",
              "      <td>0</td>\n",
              "      <td>0.0</td>\n",
              "      <td>June 2024</td>\n",
              "    </tr>\n",
              "    <tr>\n",
              "      <th>222851</th>\n",
              "      <td>2024-05-16 11:22:00</td>\n",
              "      <td>Category-85</td>\n",
              "      <td>Product-114f</td>\n",
              "      <td>Business-88e8</td>\n",
              "      <td>Location-c2f2</td>\n",
              "      <td>0</td>\n",
              "      <td>0.0</td>\n",
              "      <td>May 2024</td>\n",
              "    </tr>\n",
              "    <tr>\n",
              "      <th>223039</th>\n",
              "      <td>2024-06-11 13:21:00</td>\n",
              "      <td>Category-76</td>\n",
              "      <td>Product-e805</td>\n",
              "      <td>Business-5620</td>\n",
              "      <td>Location-1979</td>\n",
              "      <td>0</td>\n",
              "      <td>0.0</td>\n",
              "      <td>June 2024</td>\n",
              "    </tr>\n",
              "    <tr>\n",
              "      <th>237603</th>\n",
              "      <td>2024-05-28 15:22:00</td>\n",
              "      <td>Category-75</td>\n",
              "      <td>Product-8f75</td>\n",
              "      <td>Business-d26f</td>\n",
              "      <td>Location-1979</td>\n",
              "      <td>0</td>\n",
              "      <td>0.0</td>\n",
              "      <td>May 2024</td>\n",
              "    </tr>\n",
              "    <tr>\n",
              "      <th>237604</th>\n",
              "      <td>2024-05-28 15:22:00</td>\n",
              "      <td>Category-110</td>\n",
              "      <td>Product-a325</td>\n",
              "      <td>Business-d26f</td>\n",
              "      <td>Location-1979</td>\n",
              "      <td>0</td>\n",
              "      <td>438.0</td>\n",
              "      <td>May 2024</td>\n",
              "    </tr>\n",
              "    <tr>\n",
              "      <th>240937</th>\n",
              "      <td>2024-06-04 18:24:00</td>\n",
              "      <td>Category-107</td>\n",
              "      <td>Product-8d56</td>\n",
              "      <td>Business-7c29</td>\n",
              "      <td>Location-e2f8</td>\n",
              "      <td>0</td>\n",
              "      <td>0.0</td>\n",
              "      <td>June 2024</td>\n",
              "    </tr>\n",
              "    <tr>\n",
              "      <th>245466</th>\n",
              "      <td>2024-05-06 17:39:00</td>\n",
              "      <td>Category-121</td>\n",
              "      <td>Product-57c1</td>\n",
              "      <td>Business-06ba</td>\n",
              "      <td>Location-3e32</td>\n",
              "      <td>0</td>\n",
              "      <td>0.0</td>\n",
              "      <td>May 2024</td>\n",
              "    </tr>\n",
              "    <tr>\n",
              "      <th>252796</th>\n",
              "      <td>2024-03-05 00:03:00</td>\n",
              "      <td>Category-76</td>\n",
              "      <td>Product-113e</td>\n",
              "      <td>Business-cc1e</td>\n",
              "      <td>Location-d1a8</td>\n",
              "      <td>0</td>\n",
              "      <td>0.0</td>\n",
              "      <td>March 2024</td>\n",
              "    </tr>\n",
              "    <tr>\n",
              "      <th>258779</th>\n",
              "      <td>2024-05-13 12:15:00</td>\n",
              "      <td>Category-76</td>\n",
              "      <td>Product-e805</td>\n",
              "      <td>Business-2ec4</td>\n",
              "      <td>Location-f37d</td>\n",
              "      <td>0</td>\n",
              "      <td>0.0</td>\n",
              "      <td>May 2024</td>\n",
              "    </tr>\n",
              "    <tr>\n",
              "      <th>293397</th>\n",
              "      <td>2024-12-31 11:28:00</td>\n",
              "      <td>Category-120</td>\n",
              "      <td>Product-83fd</td>\n",
              "      <td>Business-0523</td>\n",
              "      <td>Location-3e32</td>\n",
              "      <td>0</td>\n",
              "      <td>0.0</td>\n",
              "      <td>December 2024</td>\n",
              "    </tr>\n",
              "    <tr>\n",
              "      <th>299788</th>\n",
              "      <td>2024-12-29 20:02:00</td>\n",
              "      <td>Category-84</td>\n",
              "      <td>Product-ee8b</td>\n",
              "      <td>Business-2366</td>\n",
              "      <td>Location-689f</td>\n",
              "      <td>0</td>\n",
              "      <td>680.0</td>\n",
              "      <td>December 2024</td>\n",
              "    </tr>\n",
              "    <tr>\n",
              "      <th>310150</th>\n",
              "      <td>2024-05-18 13:58:00</td>\n",
              "      <td>Category-75</td>\n",
              "      <td>Product-8f75</td>\n",
              "      <td>Business-c192</td>\n",
              "      <td>Location-1979</td>\n",
              "      <td>0</td>\n",
              "      <td>0.0</td>\n",
              "      <td>May 2024</td>\n",
              "    </tr>\n",
              "    <tr>\n",
              "      <th>329123</th>\n",
              "      <td>2024-12-01 19:49:00</td>\n",
              "      <td>Category-75</td>\n",
              "      <td>Product-2175</td>\n",
              "      <td>Business-aac2</td>\n",
              "      <td>Location-4ea1</td>\n",
              "      <td>0</td>\n",
              "      <td>0.0</td>\n",
              "      <td>December 2024</td>\n",
              "    </tr>\n",
              "  </tbody>\n",
              "</table>\n",
              "</div>\n",
              "    <div class=\"colab-df-buttons\">\n",
              "\n",
              "  <div class=\"colab-df-container\">\n",
              "    <button class=\"colab-df-convert\" onclick=\"convertToInteractive('df-52d680e7-cf3d-431c-81a9-110770c0933e')\"\n",
              "            title=\"Convert this dataframe to an interactive table.\"\n",
              "            style=\"display:none;\">\n",
              "\n",
              "  <svg xmlns=\"http://www.w3.org/2000/svg\" height=\"24px\" viewBox=\"0 -960 960 960\">\n",
              "    <path d=\"M120-120v-720h720v720H120Zm60-500h600v-160H180v160Zm220 220h160v-160H400v160Zm0 220h160v-160H400v160ZM180-400h160v-160H180v160Zm440 0h160v-160H620v160ZM180-180h160v-160H180v160Zm440 0h160v-160H620v160Z\"/>\n",
              "  </svg>\n",
              "    </button>\n",
              "\n",
              "  <style>\n",
              "    .colab-df-container {\n",
              "      display:flex;\n",
              "      gap: 12px;\n",
              "    }\n",
              "\n",
              "    .colab-df-convert {\n",
              "      background-color: #E8F0FE;\n",
              "      border: none;\n",
              "      border-radius: 50%;\n",
              "      cursor: pointer;\n",
              "      display: none;\n",
              "      fill: #1967D2;\n",
              "      height: 32px;\n",
              "      padding: 0 0 0 0;\n",
              "      width: 32px;\n",
              "    }\n",
              "\n",
              "    .colab-df-convert:hover {\n",
              "      background-color: #E2EBFA;\n",
              "      box-shadow: 0px 1px 2px rgba(60, 64, 67, 0.3), 0px 1px 3px 1px rgba(60, 64, 67, 0.15);\n",
              "      fill: #174EA6;\n",
              "    }\n",
              "\n",
              "    .colab-df-buttons div {\n",
              "      margin-bottom: 4px;\n",
              "    }\n",
              "\n",
              "    [theme=dark] .colab-df-convert {\n",
              "      background-color: #3B4455;\n",
              "      fill: #D2E3FC;\n",
              "    }\n",
              "\n",
              "    [theme=dark] .colab-df-convert:hover {\n",
              "      background-color: #434B5C;\n",
              "      box-shadow: 0px 1px 3px 1px rgba(0, 0, 0, 0.15);\n",
              "      filter: drop-shadow(0px 1px 2px rgba(0, 0, 0, 0.3));\n",
              "      fill: #FFFFFF;\n",
              "    }\n",
              "  </style>\n",
              "\n",
              "    <script>\n",
              "      const buttonEl =\n",
              "        document.querySelector('#df-52d680e7-cf3d-431c-81a9-110770c0933e button.colab-df-convert');\n",
              "      buttonEl.style.display =\n",
              "        google.colab.kernel.accessAllowed ? 'block' : 'none';\n",
              "\n",
              "      async function convertToInteractive(key) {\n",
              "        const element = document.querySelector('#df-52d680e7-cf3d-431c-81a9-110770c0933e');\n",
              "        const dataTable =\n",
              "          await google.colab.kernel.invokeFunction('convertToInteractive',\n",
              "                                                    [key], {});\n",
              "        if (!dataTable) return;\n",
              "\n",
              "        const docLinkHtml = 'Like what you see? Visit the ' +\n",
              "          '<a target=\"_blank\" href=https://colab.research.google.com/notebooks/data_table.ipynb>data table notebook</a>'\n",
              "          + ' to learn more about interactive tables.';\n",
              "        element.innerHTML = '';\n",
              "        dataTable['output_type'] = 'display_data';\n",
              "        await google.colab.output.renderOutput(dataTable, element);\n",
              "        const docLink = document.createElement('div');\n",
              "        docLink.innerHTML = docLinkHtml;\n",
              "        element.appendChild(docLink);\n",
              "      }\n",
              "    </script>\n",
              "  </div>\n",
              "\n",
              "\n",
              "<div id=\"df-98646184-366c-434a-b939-ad31d6e0c1b6\">\n",
              "  <button class=\"colab-df-quickchart\" onclick=\"quickchart('df-98646184-366c-434a-b939-ad31d6e0c1b6')\"\n",
              "            title=\"Suggest charts\"\n",
              "            style=\"display:none;\">\n",
              "\n",
              "<svg xmlns=\"http://www.w3.org/2000/svg\" height=\"24px\"viewBox=\"0 0 24 24\"\n",
              "     width=\"24px\">\n",
              "    <g>\n",
              "        <path d=\"M19 3H5c-1.1 0-2 .9-2 2v14c0 1.1.9 2 2 2h14c1.1 0 2-.9 2-2V5c0-1.1-.9-2-2-2zM9 17H7v-7h2v7zm4 0h-2V7h2v10zm4 0h-2v-4h2v4z\"/>\n",
              "    </g>\n",
              "</svg>\n",
              "  </button>\n",
              "\n",
              "<style>\n",
              "  .colab-df-quickchart {\n",
              "      --bg-color: #E8F0FE;\n",
              "      --fill-color: #1967D2;\n",
              "      --hover-bg-color: #E2EBFA;\n",
              "      --hover-fill-color: #174EA6;\n",
              "      --disabled-fill-color: #AAA;\n",
              "      --disabled-bg-color: #DDD;\n",
              "  }\n",
              "\n",
              "  [theme=dark] .colab-df-quickchart {\n",
              "      --bg-color: #3B4455;\n",
              "      --fill-color: #D2E3FC;\n",
              "      --hover-bg-color: #434B5C;\n",
              "      --hover-fill-color: #FFFFFF;\n",
              "      --disabled-bg-color: #3B4455;\n",
              "      --disabled-fill-color: #666;\n",
              "  }\n",
              "\n",
              "  .colab-df-quickchart {\n",
              "    background-color: var(--bg-color);\n",
              "    border: none;\n",
              "    border-radius: 50%;\n",
              "    cursor: pointer;\n",
              "    display: none;\n",
              "    fill: var(--fill-color);\n",
              "    height: 32px;\n",
              "    padding: 0;\n",
              "    width: 32px;\n",
              "  }\n",
              "\n",
              "  .colab-df-quickchart:hover {\n",
              "    background-color: var(--hover-bg-color);\n",
              "    box-shadow: 0 1px 2px rgba(60, 64, 67, 0.3), 0 1px 3px 1px rgba(60, 64, 67, 0.15);\n",
              "    fill: var(--button-hover-fill-color);\n",
              "  }\n",
              "\n",
              "  .colab-df-quickchart-complete:disabled,\n",
              "  .colab-df-quickchart-complete:disabled:hover {\n",
              "    background-color: var(--disabled-bg-color);\n",
              "    fill: var(--disabled-fill-color);\n",
              "    box-shadow: none;\n",
              "  }\n",
              "\n",
              "  .colab-df-spinner {\n",
              "    border: 2px solid var(--fill-color);\n",
              "    border-color: transparent;\n",
              "    border-bottom-color: var(--fill-color);\n",
              "    animation:\n",
              "      spin 1s steps(1) infinite;\n",
              "  }\n",
              "\n",
              "  @keyframes spin {\n",
              "    0% {\n",
              "      border-color: transparent;\n",
              "      border-bottom-color: var(--fill-color);\n",
              "      border-left-color: var(--fill-color);\n",
              "    }\n",
              "    20% {\n",
              "      border-color: transparent;\n",
              "      border-left-color: var(--fill-color);\n",
              "      border-top-color: var(--fill-color);\n",
              "    }\n",
              "    30% {\n",
              "      border-color: transparent;\n",
              "      border-left-color: var(--fill-color);\n",
              "      border-top-color: var(--fill-color);\n",
              "      border-right-color: var(--fill-color);\n",
              "    }\n",
              "    40% {\n",
              "      border-color: transparent;\n",
              "      border-right-color: var(--fill-color);\n",
              "      border-top-color: var(--fill-color);\n",
              "    }\n",
              "    60% {\n",
              "      border-color: transparent;\n",
              "      border-right-color: var(--fill-color);\n",
              "    }\n",
              "    80% {\n",
              "      border-color: transparent;\n",
              "      border-right-color: var(--fill-color);\n",
              "      border-bottom-color: var(--fill-color);\n",
              "    }\n",
              "    90% {\n",
              "      border-color: transparent;\n",
              "      border-bottom-color: var(--fill-color);\n",
              "    }\n",
              "  }\n",
              "</style>\n",
              "\n",
              "  <script>\n",
              "    async function quickchart(key) {\n",
              "      const quickchartButtonEl =\n",
              "        document.querySelector('#' + key + ' button');\n",
              "      quickchartButtonEl.disabled = true;  // To prevent multiple clicks.\n",
              "      quickchartButtonEl.classList.add('colab-df-spinner');\n",
              "      try {\n",
              "        const charts = await google.colab.kernel.invokeFunction(\n",
              "            'suggestCharts', [key], {});\n",
              "      } catch (error) {\n",
              "        console.error('Error during call to suggestCharts:', error);\n",
              "      }\n",
              "      quickchartButtonEl.classList.remove('colab-df-spinner');\n",
              "      quickchartButtonEl.classList.add('colab-df-quickchart-complete');\n",
              "    }\n",
              "    (() => {\n",
              "      let quickchartButtonEl =\n",
              "        document.querySelector('#df-98646184-366c-434a-b939-ad31d6e0c1b6 button');\n",
              "      quickchartButtonEl.style.display =\n",
              "        google.colab.kernel.accessAllowed ? 'block' : 'none';\n",
              "    })();\n",
              "  </script>\n",
              "</div>\n",
              "\n",
              "    </div>\n",
              "  </div>\n"
            ],
            "application/vnd.google.colaboratory.intrinsic+json": {
              "type": "dataframe",
              "repr_error": "0"
            }
          },
          "metadata": {},
          "execution_count": 95
        }
      ]
    },
    {
      "cell_type": "markdown",
      "source": [
        "In the above code, I have realised that there are some products whose quantity is zero. I was testing this to find out why I have values of 0.00 for Total Value, so that I know how to handle them."
      ],
      "metadata": {
        "id": "vwXgf10f8M6-"
      }
    },
    {
      "cell_type": "code",
      "source": [
        "# Creating a Bar Graph: Total Quantity by ANONYMIZED CATEGORY\n",
        "plt.figure(figsize=(10, 6))\n",
        "sns.barplot(x='ANONYMIZED CATEGORY', y='Total_Quantity', data=result, palette='magma')\n",
        "plt.title('Total Quantity by Anonymized Category')\n",
        "plt.xlabel('Anonymized Category', fontsize=10)\n",
        "plt.ylabel('Total Quantity', fontsize=10)\n",
        "plt.xticks(rotation=90)\n",
        "plt.tight_layout()\n",
        "plt.show()"
      ],
      "metadata": {
        "id": "6iuX7kBy8e0t",
        "colab": {
          "base_uri": "https://localhost:8080/",
          "height": 635
        },
        "outputId": "0cccd264-578e-4e0a-9416-e906a31ebd0d"
      },
      "execution_count": 96,
      "outputs": [
        {
          "output_type": "stream",
          "name": "stderr",
          "text": [
            "<ipython-input-96-c7a9c1ec26bb>:3: FutureWarning: \n",
            "\n",
            "Passing `palette` without assigning `hue` is deprecated and will be removed in v0.14.0. Assign the `x` variable to `hue` and set `legend=False` for the same effect.\n",
            "\n",
            "  sns.barplot(x='ANONYMIZED CATEGORY', y='Total_Quantity', data=result, palette='magma')\n"
          ]
        },
        {
          "output_type": "display_data",
          "data": {
            "text/plain": [
              "<Figure size 1000x600 with 1 Axes>"
            ],
            "image/png": "[encoded data removed]"
          },
          "metadata": {}
        }
      ]
    },
    {
      "cell_type": "code",
      "source": [
        "# Creating a bar graph of  Total Value by ANONYMIZED BUSINESS\n",
        "plt.figure(figsize = (10,6) )\n",
        "sns.barplot(x='ANONYMIZED BUSINESS', y= 'Total_Value', data = result, palette='magma')\n",
        "plt.title('Total Value by Anonymized Business')\n",
        "plt.xlabel('Anonymized Business', fontsize=10)\n",
        "plt.ylabel('Total Value',fontsize=10)\n",
        "plt.xticks(rotation = 90)\n",
        "plt.tight_layout()\n",
        "plt.show()"
      ],
      "metadata": {
        "colab": {
          "base_uri": "https://localhost:8080/",
          "height": 635
        },
        "id": "QpZLLiskKIPP",
        "outputId": "3e130009-aa5c-485f-facd-ed0629115b5d"
      },
      "execution_count": 97,
      "outputs": [
        {
          "output_type": "stream",
          "name": "stderr",
          "text": [
            "<ipython-input-97-cec7d9f4237a>:3: FutureWarning: \n",
            "\n",
            "Passing `palette` without assigning `hue` is deprecated and will be removed in v0.14.0. Assign the `x` variable to `hue` and set `legend=False` for the same effect.\n",
            "\n",
            "  sns.barplot(x='ANONYMIZED BUSINESS', y= 'Total_Value', data = result, palette='magma')\n"
          ]
        },
        {
          "output_type": "display_data",
          "data": {
            "text/plain": [
              "<Figure size 1000x600 with 1 Axes>"
            ],
            "image/png": "[encoded data removed]"
          },
          "metadata": {}
        }
      ]
    },
    {
      "cell_type": "code",
      "source": [
        "# Creating a bar graph of  Total Value by ANONYMIZED CATEGORY\n",
        "plt.figure(figsize = (10,6) )\n",
        "sns.barplot(x='ANONYMIZED CATEGORY', y= 'Total_Value', data = result, palette='magma')\n",
        "plt.title('Total Value by Anonymized Category')\n",
        "plt.xlabel('Anonymized Category', fontsize=10)\n",
        "plt.ylabel('Total Value',fontsize=10)\n",
        "plt.xticks(rotation = 90)\n",
        "plt.tight_layout()\n",
        "plt.show()"
      ],
      "metadata": {
        "colab": {
          "base_uri": "https://localhost:8080/",
          "height": 635
        },
        "id": "H4DTQONNd6eF",
        "outputId": "04517e14-30f0-4613-c807-ce9823837a23"
      },
      "execution_count": 98,
      "outputs": [
        {
          "output_type": "stream",
          "name": "stderr",
          "text": [
            "<ipython-input-98-131059d3b05e>:3: FutureWarning: \n",
            "\n",
            "Passing `palette` without assigning `hue` is deprecated and will be removed in v0.14.0. Assign the `x` variable to `hue` and set `legend=False` for the same effect.\n",
            "\n",
            "  sns.barplot(x='ANONYMIZED CATEGORY', y= 'Total_Value', data = result, palette='magma')\n"
          ]
        },
        {
          "output_type": "display_data",
          "data": {
            "text/plain": [
              "<Figure size 1000x600 with 1 Axes>"
            ],
            "image/png": "[encoded data removed]"
          },
          "metadata": {}
        }
      ]
    },
    {
      "cell_type": "code",
      "source": [
        "# Creating a Bar Graph: Total Quantity by ANONYMIZED BUSINESS\n",
        "plt.figure(figsize=(10, 6))\n",
        "sns.barplot(x='ANONYMIZED BUSINESS', y='Total_Quantity', data=result, palette='coolwarm')\n",
        "plt.title('Total Quantity by Anonymized Business')\n",
        "plt.xlabel('Anonymized Business', fontsize=10)\n",
        "plt.ylabel('Total Quantity', fontsize=10)\n",
        "plt.xticks(rotation=90)\n",
        "plt.tight_layout()\n",
        "plt.show()"
      ],
      "metadata": {
        "colab": {
          "base_uri": "https://localhost:8080/",
          "height": 635
        },
        "id": "8_pAgch6S9te",
        "outputId": "fcb6d232-a7d0-4262-8347-b5bd5910f664"
      },
      "execution_count": 99,
      "outputs": [
        {
          "output_type": "stream",
          "name": "stderr",
          "text": [
            "<ipython-input-99-a6b2aeb6bb91>:3: FutureWarning: \n",
            "\n",
            "Passing `palette` without assigning `hue` is deprecated and will be removed in v0.14.0. Assign the `x` variable to `hue` and set `legend=False` for the same effect.\n",
            "\n",
            "  sns.barplot(x='ANONYMIZED BUSINESS', y='Total_Quantity', data=result, palette='coolwarm')\n"
          ]
        },
        {
          "output_type": "display_data",
          "data": {
            "text/plain": [
              "<Figure size 1000x600 with 1 Axes>"
            ],
            "image/png": "[encoded data removed]"
          },
          "metadata": {}
        }
      ]
    },
    {
      "cell_type": "code",
      "source": [
        "# Aggregate sales data by Month-Year\n",
        "sales_trends = df.groupby('Month-Year').agg(\n",
        "    Total_Quantity=('QUANTITY','sum'),\n",
        "    Total_Value=('UNIT PRICE', lambda x: sum(x*df.loc[x.index, 'QUANTITY']))\n",
        ").reset_index()\n",
        "# Ensure Month-Year is in datetime format\n",
        "sales_trends['Month-Year'] = pd.to_datetime(sales_trends['Month-Year'])\n",
        "# Sort the DataFrame by Month-Year to ensure the order is correct\n",
        "sales_trends = sales_trends.sort_values('Month-Year')\n",
        "\n",
        "# Plotting the time series trends\n",
        "plt.figure(figsize=(14, 7))\n",
        "\n",
        "# Plot Sales Value\n",
        "plt.plot(sales_trends['Month-Year'], sales_trends['Total_Value'], marker='o', label='Sales Value', color='blue')\n",
        "\n",
        "# Plot Sales Quantity\n",
        "plt.plot(sales_trends['Month-Year'], sales_trends['Total_Quantity'], marker='s', label='Sales Quantity', color='orange')\n",
        "\n",
        "# Plot decorations\n",
        "plt.title('Sales Trends Over Time (Value and Quantity)', fontsize=16)\n",
        "plt.xlabel('Month-Year', fontsize=14)\n",
        "plt.ylabel('Sales', fontsize=14)\n",
        "plt.legend()\n",
        "plt.grid(True, linestyle='--', alpha=0.6)\n",
        "plt.xticks(rotation=45)\n",
        "\n",
        "# Show plot\n",
        "plt.tight_layout()\n",
        "plt.show()\n"
      ],
      "metadata": {
        "colab": {
          "base_uri": "https://localhost:8080/",
          "height": 497
        },
        "id": "LW3vGA0lgQkn",
        "outputId": "ad02a815-f460-4481-e313-f58772d6ebad"
      },
      "execution_count": 100,
      "outputs": [
        {
          "output_type": "stream",
          "name": "stderr",
          "text": [
            "<ipython-input-100-91046a97c230>:7: UserWarning: Could not infer format, so each element will be parsed individually, falling back to `dateutil`. To ensure parsing is consistent and as-expected, please specify a format.\n",
            "  sales_trends['Month-Year'] = pd.to_datetime(sales_trends['Month-Year'])\n"
          ]
        },
        {
          "output_type": "display_data",
          "data": {
            "text/plain": [
              "<Figure size 1400x700 with 1 Axes>"
            ],
            "image/png": "[encoded data removed]"
          },
          "metadata": {}
        }
      ]
    },
    {
      "cell_type": "markdown",
      "source": [
        "**Performance Analysis**"
      ],
      "metadata": {
        "id": "N8ap8fQUDuBh"
      }
    },
    {
      "cell_type": "code",
      "source": [
        "# Identifying the top 5 most frequently purchased products based on Quantity\n",
        "top_products = df.groupby('ANONYMIZED PRODUCT').agg({'QUANTITY': 'sum'})\n",
        "top_products = top_products.sort_values(by='QUANTITY', ascending=False).head(5)\n",
        "print(top_products)\n"
      ],
      "metadata": {
        "colab": {
          "base_uri": "https://localhost:8080/"
        },
        "id": "8Y4EaYOxCY-j",
        "outputId": "994bd560-c6ef-4007-f547-274351110d94"
      },
      "execution_count": 101,
      "outputs": [
        {
          "output_type": "stream",
          "name": "stdout",
          "text": [
            "                    QUANTITY\n",
            "ANONYMIZED PRODUCT          \n",
            "Product-66e0           46957\n",
            "Product-e805           42602\n",
            "Product-8f75           37566\n",
            "Product-29ee           35940\n",
            "Product-4156           28487\n"
          ]
        }
      ]
    },
    {
      "cell_type": "code",
      "source": [
        "#Identifying the top 5 most valuable products (based on Value).\n",
        "top_valuable_products = df.groupby('ANONYMIZED PRODUCT').agg(\n",
        "    Total_Value=('UNIT PRICE', lambda x: sum(x*df.loc[x.index, 'QUANTITY']))\n",
        ")\n",
        "top_valuable_products = top_valuable_products.sort_values(by='Total_Value', ascending=False).head(5)\n",
        "print(top_valuable_products)"
      ],
      "metadata": {
        "colab": {
          "base_uri": "https://localhost:8080/"
        },
        "id": "NCArJcDeFlz6",
        "outputId": "3973207d-5b6d-4b40-a542-32a09e42c251"
      },
      "execution_count": 102,
      "outputs": [
        {
          "output_type": "stream",
          "name": "stdout",
          "text": [
            "                    Total_Value\n",
            "ANONYMIZED PRODUCT             \n",
            "Product-3d7f          5745920.0\n",
            "Product-703d          4598970.0\n",
            "Product-91f3          3912806.0\n",
            "Product-b409          3422340.0\n",
            "Product-9c81          2363320.0\n"
          ]
        }
      ]
    },
    {
      "cell_type": "markdown",
      "source": [
        "**ADVANCED ANALYSIS**"
      ],
      "metadata": {
        "id": "XdEBcA_nI6I2"
      }
    },
    {
      "cell_type": "code",
      "source": [
        "# Performing segmentation analysis based on purchasing behavior\n",
        "business_segmentation = df.groupby('ANONYMIZED BUSINESS').agg(\n",
        "    Total_Quantity=('QUANTITY', 'sum'),  # Total quantity purchased\n",
        "    Total_Value=('UNIT PRICE', lambda x: sum(x * df.loc[x.index, 'QUANTITY'])),  # Total value contributed\n",
        "    Transaction_Frequency= ('Month-Year', 'count'),\n",
        "    First_Transaction_Date=('DATE', 'min'),  # First transaction date\n",
        "    Last_Transaction_Date=('DATE', 'max')   # Last transaction date\n",
        ").reset_index()\n",
        "\n",
        "# Display segmentation results\n",
        "print(\"Business Segmentation Analysis:\")\n",
        "print(business_segmentation.sort_values(by=['Total_Value', 'Total_Quantity'], ascending=False))"
      ],
      "metadata": {
        "colab": {
          "base_uri": "https://localhost:8080/"
        },
        "id": "mgy9nUtII2Pw",
        "outputId": "945a9b77-904c-47c1-874f-ee66612762f0"
      },
      "execution_count": 103,
      "outputs": [
        {
          "output_type": "stream",
          "name": "stdout",
          "text": [
            "Business Segmentation Analysis:\n",
            "     ANONYMIZED BUSINESS  Total_Quantity  Total_Value  Transaction_Frequency  \\\n",
            "2906       Business-978e           13991    1729770.0                   2614   \n",
            "2868       Business-9540            1496     495931.0                    914   \n",
            "1555       Business-4fee            2036     478338.0                   1290   \n",
            "1857       Business-5fc7            1546     304996.0                    836   \n",
            "3420       Business-b477            1273     288638.0                    506   \n",
            "...                  ...             ...          ...                    ...   \n",
            "4690       Business-fa63               1          0.0                      1   \n",
            "4694       Business-fa77               1          0.0                      1   \n",
            "4700       Business-fac9               1          0.0                      1   \n",
            "4724       Business-fbc6               1          0.0                      1   \n",
            "4727       Business-fbd2               1          0.0                      1   \n",
            "\n",
            "     First_Transaction_Date Last_Transaction_Date  \n",
            "2906    2024-01-03 19:30:00   2024-12-31 17:19:00  \n",
            "2868    2024-01-02 16:37:00   2024-12-30 19:56:00  \n",
            "1555    2024-01-02 13:43:00   2024-12-31 13:45:00  \n",
            "1857    2024-01-08 19:42:00   2024-12-19 21:01:00  \n",
            "3420    2024-01-01 15:12:00   2024-12-31 14:46:00  \n",
            "...                     ...                   ...  \n",
            "4690    2024-06-21 16:55:00   2024-06-21 16:55:00  \n",
            "4694    2024-02-23 16:27:00   2024-02-23 16:27:00  \n",
            "4700    2024-04-01 17:30:00   2024-04-01 17:30:00  \n",
            "4724    2024-03-31 18:09:00   2024-03-31 18:09:00  \n",
            "4727    2024-06-11 15:58:00   2024-06-11 15:58:00  \n",
            "\n",
            "[4800 rows x 6 columns]\n"
          ]
        }
      ]
    },
    {
      "cell_type": "code",
      "source": [
        "# Classifying  businesses into 3 value-based groups\n",
        "business_segmentation['Value_Segment'] = pd.cut(\n",
        "    business_segmentation['Total_Value'],\n",
        "    bins=3,\n",
        "    labels=['Low Value', 'Medium Value', 'High Value']\n",
        ")\n",
        "\n",
        "# Displaying segmented data\n",
        "print(\"Business Segmentation with Value Groups:\")\n",
        "print(business_segmentation[['ANONYMIZED BUSINESS', 'Total_Value', 'Value_Segment',]])\n"
      ],
      "metadata": {
        "colab": {
          "base_uri": "https://localhost:8080/"
        },
        "id": "H3jJfsRwo09V",
        "outputId": "e58f72e0-fb6f-42e9-cb80-3e21eda755f9"
      },
      "execution_count": 104,
      "outputs": [
        {
          "output_type": "stream",
          "name": "stdout",
          "text": [
            "Business Segmentation with Value Groups:\n",
            "     ANONYMIZED BUSINESS  Total_Value Value_Segment\n",
            "0          Business-0000        365.0     Low Value\n",
            "1          Business-0005          0.0     Low Value\n",
            "2          Business-0029          0.0     Low Value\n",
            "3          Business-003d      11390.0     Low Value\n",
            "4          Business-0072      15773.0     Low Value\n",
            "...                  ...          ...           ...\n",
            "4795       Business-ffa9        820.0     Low Value\n",
            "4796       Business-ffae       1280.0     Low Value\n",
            "4797       Business-ffb1      73284.0     Low Value\n",
            "4798       Business-ffd2       6483.0     Low Value\n",
            "4799       Business-ffff      36475.0     Low Value\n",
            "\n",
            "[4800 rows x 3 columns]\n"
          ]
        }
      ]
    },
    {
      "cell_type": "markdown",
      "source": [
        "**Recommendations**\n",
        "\n",
        "High vale business should be retained, as they bring in more revenue. Tabs should be kept on such , to keep pace with their needs, their painpoints and how to alievate them, opportunities to improve their interaction as well as introduce loyalty programs to them.\n",
        "\n",
        "The company should see how best they can add value to middle level business because, and hence transition them into high value business.\n"
      ],
      "metadata": {
        "id": "1GatJVkpAUkI"
      }
    },
    {
      "cell_type": "markdown",
      "source": [
        "**FORECASTING**\n",
        "From the trendline in the data, above, ARIMA is the best forecasting method I will chose to apply on this dataset. This is because I observed some seasonality in the data, and I would like to all the historical data to have same weightage on my future forecast."
      ],
      "metadata": {
        "id": "ZpYFBT3iFlJL"
      }
    },
    {
      "cell_type": "code",
      "source": [
        "from statsmodels.tsa.arima.model import ARIMA"
      ],
      "metadata": {
        "id": "8proo9i__kmO"
      },
      "execution_count": 105,
      "outputs": []
    },
    {
      "cell_type": "code",
      "source": [
        "print(business_segmentation.columns)\n"
      ],
      "metadata": {
        "colab": {
          "base_uri": "https://localhost:8080/"
        },
        "id": "zdvAIuk_PQXp",
        "outputId": "81103b00-c832-4d4f-cbf9-b29f4318a915"
      },
      "execution_count": 106,
      "outputs": [
        {
          "output_type": "stream",
          "name": "stdout",
          "text": [
            "Index(['ANONYMIZED BUSINESS', 'Total_Quantity', 'Total_Value',\n",
            "       'Transaction_Frequency', 'First_Transaction_Date',\n",
            "       'Last_Transaction_Date', 'Value_Segment'],\n",
            "      dtype='object')\n"
          ]
        }
      ]
    },
    {
      "cell_type": "code",
      "source": [
        "\n",
        "# Ensuring the date columns are in datetime format\n",
        "business_segmentation['Last_Transaction_Date'] = pd.to_datetime(business_segmentation['Last_Transaction_Date'])\n",
        "\n"
      ],
      "metadata": {
        "id": "kgDOx2DkOLwx"
      },
      "execution_count": 107,
      "outputs": []
    },
    {
      "cell_type": "code",
      "source": [
        "# Set the date column as the index\n",
        "business_segmentation = business_segmentation.set_index('Last_Transaction_Date')\n"
      ],
      "metadata": {
        "id": "8bUFga9esX3Z"
      },
      "execution_count": 108,
      "outputs": []
    },
    {
      "cell_type": "code",
      "source": [
        "# Aggregating sales data by month\n",
        "monthly_sales = business_segmentation['Total_Value'].resample('M').sum()\n"
      ],
      "metadata": {
        "colab": {
          "base_uri": "https://localhost:8080/"
        },
        "id": "THGHgvhKt4A_",
        "outputId": "cb89ff09-62b3-47db-9fd6-39ce1648eeaf"
      },
      "execution_count": 109,
      "outputs": [
        {
          "output_type": "stream",
          "name": "stderr",
          "text": [
            "<ipython-input-109-7a46e48a58f1>:2: FutureWarning: 'M' is deprecated and will be removed in a future version, please use 'ME' instead.\n",
            "  monthly_sales = business_segmentation['Total_Value'].resample('M').sum()\n"
          ]
        }
      ]
    },
    {
      "cell_type": "code",
      "source": [
        "# Fiting the ARIMA model\n",
        "model = ARIMA(monthly_sales)\n",
        "model_fit = model.fit()\n",
        "\n"
      ],
      "metadata": {
        "id": "QKMwvaP0IblZ"
      },
      "execution_count": 110,
      "outputs": []
    },
    {
      "cell_type": "code",
      "source": [
        "# Forecasting for the next 3 months\n",
        "forecast = model_fit.forecast(steps=3)\n",
        "forecast_index = pd.date_range(monthly_sales.index[-1] + pd.DateOffset(months=1), periods=3, freq='M')\n"
      ],
      "metadata": {
        "colab": {
          "base_uri": "https://localhost:8080/"
        },
        "id": "anFGreo8K5yb",
        "outputId": "8e3091d5-e6cd-429f-d6af-f7454c3fe5e2"
      },
      "execution_count": 111,
      "outputs": [
        {
          "output_type": "stream",
          "name": "stderr",
          "text": [
            "<ipython-input-111-6db90beae2df>:3: FutureWarning: 'M' is deprecated and will be removed in a future version, please use 'ME' instead.\n",
            "  forecast_index = pd.date_range(monthly_sales.index[-1] + pd.DateOffset(months=1), periods=3, freq='M')\n"
          ]
        }
      ]
    },
    {
      "cell_type": "code",
      "source": [
        "# Displaying forecast\n",
        "forecast_series = pd.Series(forecast, index=forecast_index)\n",
        "print(\"Sales Forecast for the Next 3 Months:\")\n",
        "print(forecast_series)"
      ],
      "metadata": {
        "colab": {
          "base_uri": "https://localhost:8080/"
        },
        "id": "7qc9wbUbLfG5",
        "outputId": "5e5ad0a1-3297-428d-8ffb-2a4ed8a2bcbc"
      },
      "execution_count": 112,
      "outputs": [
        {
          "output_type": "stream",
          "name": "stdout",
          "text": [
            "Sales Forecast for the Next 3 Months:\n",
            "2025-01-31    4.481646e+06\n",
            "2025-02-28    4.481646e+06\n",
            "2025-03-31    4.481646e+06\n",
            "Freq: ME, Name: predicted_mean, dtype: float64\n"
          ]
        }
      ]
    },
    {
      "cell_type": "markdown",
      "source": [
        "**ANOMALY DETECTION**\n",
        "\n",
        "Between April and May of 2024, there was a steep spike in sales.This could be attributed to the period being a back to school season, in the Kenyan academic calendar.\n",
        "\n",
        "Similiarly, between January and February, there is an observed steep drop in sales, likely to be attributed to the populance limited disposable income, having just come from the Christmas and New year festive seasons."
      ],
      "metadata": {
        "id": "Dtqg7HooM0b2"
      }
    },
    {
      "cell_type": "markdown",
      "source": [
        "**CORRELATION ANALYSIS**"
      ],
      "metadata": {
        "id": "LK0FQHx2NJ7J"
      }
    },
    {
      "cell_type": "code",
      "source": [
        "# Correlation between Quantity and Value\n",
        "correlation = business_segmentation[['Total_Quantity', 'Total_Value']].corr()\n",
        "print(correlation)"
      ],
      "metadata": {
        "colab": {
          "base_uri": "https://localhost:8080/"
        },
        "id": "aq2iix2vNH0J",
        "outputId": "fb08338e-7454-4e8d-ba35-303cd6fc10c2"
      },
      "execution_count": 113,
      "outputs": [
        {
          "output_type": "stream",
          "name": "stdout",
          "text": [
            "                Total_Quantity  Total_Value\n",
            "Total_Quantity        1.000000     0.680656\n",
            "Total_Value           0.680656     1.000000\n"
          ]
        }
      ]
    },
    {
      "cell_type": "code",
      "source": [
        "# Visualizing the correlation\n",
        "plt.figure(figsize=(8, 5))\n",
        "sns.heatmap(correlation, annot=True, cmap='Blues', fmt='.2f', square=True)\n",
        "plt.title('Correlation Heatmap: Quantity vs Value')\n",
        "plt.show()\n"
      ],
      "metadata": {
        "colab": {
          "base_uri": "https://localhost:8080/",
          "height": 468
        },
        "id": "LZqSH4cXPyjm",
        "outputId": "e32731e5-d7d2-4abf-c8d3-aa8b25c458f7"
      },
      "execution_count": 114,
      "outputs": [
        {
          "output_type": "display_data",
          "data": {
            "text/plain": [
              "<Figure size 800x500 with 2 Axes>"
            ],
            "image/png": "[encoded data removed]"
          },
          "metadata": {}
        }
      ]
    },
    {
      "cell_type": "markdown",
      "source": [
        "There is a moderately high correlation between qauntity and value. This means that a higher qauntity of product translates into high total value derived from that product.\n",
        "\n",
        "Sales performance is driven by\n",
        "1. Employee satisfaction - when employees feel seen, heard and well appreciated at work, it motivates them into pushing the sales needle her.\n",
        "2. Product quality - high quality products tend to attract a good market rapport hence improvibg its demand, translating into more sales.\n",
        "3. Pricing - Based on the market segmentation, highly priced products in low incomme areas do not more as quickly as would moderately/lowly priced products.\n",
        "4. Product market support - Programs such as promotions and loyalty programs aid in pushing product sales in the market."
      ],
      "metadata": {
        "id": "0RKo_9UsPOaC"
      }
    },
    {
      "cell_type": "markdown",
      "source": [
        "**SECTION 4 : STRATEGIC INSIGHTS AND RECOMEMNDATIONS**\n",
        "\n",
        "Category 94 should be prioritized in marketing campaings since it drives the highest revenue. A focused campaign could further amplify its strong performance and increase its sales volumes.\n",
        "\n",
        "\n",
        "\n",
        "\n",
        "\n"
      ],
      "metadata": {
        "id": "S7BSSOxFZkEV"
      }
    },
    {
      "cell_type": "code",
      "source": [
        "from google.colab import files"
      ],
      "metadata": {
        "id": "ffRCSnKwshML"
      },
      "execution_count": 122,
      "outputs": []
    },
    {
      "cell_type": "code",
      "source": [
        "# Save the DataFrame to an Excel file\n",
        "df.to_excel('Kwanza Tukule.xlsx', index=False)"
      ],
      "metadata": {
        "id": "obSyFfLnx88e"
      },
      "execution_count": 123,
      "outputs": []
    },
    {
      "cell_type": "code",
      "source": [
        "# Download the file\n",
        "files.download('Kwanza Tukule.xlsx')"
      ],
      "metadata": {
        "colab": {
          "base_uri": "https://localhost:8080/",
          "height": 17
        },
        "id": "I3fZl38pydgE",
        "outputId": "4a37296e-f19a-4668-fe76-730890c92ce7"
      },
      "execution_count": 124,
      "outputs": [
        {
          "output_type": "display_data",
          "data": {
            "text/plain": [
              "<IPython.core.display.Javascript object>"
            ],
            "application/javascript": [
              "\n",
              "    async function download(id, filename, size) {\n",
              "      if (!google.colab.kernel.accessAllowed) {\n",
              "        return;\n",
              "      }\n",
              "      const div = document.createElement('div');\n",
              "      const label = document.createElement('label');\n",
              "      label.textContent = `Downloading \"${filename}\": `;\n",
              "      div.appendChild(label);\n",
              "      const progress = document.createElement('progress');\n",
              "      progress.max = size;\n",
              "      div.appendChild(progress);\n",
              "      document.body.appendChild(div);\n",
              "\n",
              "      const buffers = [];\n",
              "      let downloaded = 0;\n",
              "\n",
              "      const channel = await google.colab.kernel.comms.open(id);\n",
              "      // Send a message to notify the kernel that we're ready.\n",
              "      channel.send({})\n",
              "\n",
              "      for await (const message of channel.messages) {\n",
              "        // Send a message to notify the kernel that we're ready.\n",
              "        channel.send({})\n",
              "        if (message.buffers) {\n",
              "          for (const buffer of message.buffers) {\n",
              "            buffers.push(buffer);\n",
              "            downloaded += buffer.byteLength;\n",
              "            progress.value = downloaded;\n",
              "          }\n",
              "        }\n",
              "      }\n",
              "      const blob = new Blob(buffers, {type: 'application/binary'});\n",
              "      const a = document.createElement('a');\n",
              "      a.href = window.URL.createObjectURL(blob);\n",
              "      a.download = filename;\n",
              "      div.appendChild(a);\n",
              "      a.click();\n",
              "      div.remove();\n",
              "    }\n",
              "  "
            ]
          },
          "metadata": {}
        },
        {
          "output_type": "display_data",
          "data": {
            "text/plain": [
              "<IPython.core.display.Javascript object>"
            ],
            "application/javascript": [
              "download(\"download_71b16231-7b2f-49e2-9b18-4b8a96564718\", \"Kwanza Tukule.xlsx\", 13740503)"
            ]
          },
          "metadata": {}
        }
      ]
    }
  ]
}